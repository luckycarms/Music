{
 "cells": [
  {
   "cell_type": "code",
   "execution_count": 1,
   "metadata": {},
   "outputs": [],
   "source": [
    "# Import pandas and sqlite3\n",
    "import pandas as pd\n",
    "import sqlite3"
   ]
  },
  {
   "cell_type": "code",
   "execution_count": 2,
   "metadata": {},
   "outputs": [
    {
     "name": "stderr",
     "output_type": "stream",
     "text": [
      "/Library/Frameworks/Python.framework/Versions/3.13/lib/python3.13/site-packages/tqdm/auto.py:21: TqdmWarning: IProgress not found. Please update jupyter and ipywidgets. See https://ipywidgets.readthedocs.io/en/stable/user_install.html\n",
      "  from .autonotebook import tqdm as notebook_tqdm\n"
     ]
    },
    {
     "name": "stdout",
     "output_type": "stream",
     "text": [
      "Warning: Looks like you're using an outdated `kagglehub` version (installed: 0.3.6), please consider upgrading to the latest version (0.3.8).\n",
      "Path to dataset files: /Users/luckyc/.cache/kagglehub/datasets/catherinerasgaitis/mxmh-survey-results/versions/1\n"
     ]
    }
   ],
   "source": [
    "# Import Kagglehub API and get data\n",
    "import kagglehub\n",
    "\n",
    "# Download latest version\n",
    "path = kagglehub.dataset_download(\"catherinerasgaitis/mxmh-survey-results\")\n",
    "\n",
    "print(\"Path to dataset files:\", path)"
   ]
  },
  {
   "cell_type": "code",
   "execution_count": 3,
   "metadata": {},
   "outputs": [
    {
     "data": {
      "text/html": [
       "<div>\n",
       "<style scoped>\n",
       "    .dataframe tbody tr th:only-of-type {\n",
       "        vertical-align: middle;\n",
       "    }\n",
       "\n",
       "    .dataframe tbody tr th {\n",
       "        vertical-align: top;\n",
       "    }\n",
       "\n",
       "    .dataframe thead th {\n",
       "        text-align: right;\n",
       "    }\n",
       "</style>\n",
       "<table border=\"1\" class=\"dataframe\">\n",
       "  <thead>\n",
       "    <tr style=\"text-align: right;\">\n",
       "      <th></th>\n",
       "      <th>Timestamp</th>\n",
       "      <th>Age</th>\n",
       "      <th>Primary streaming service</th>\n",
       "      <th>Hours per day</th>\n",
       "      <th>While working</th>\n",
       "      <th>Instrumentalist</th>\n",
       "      <th>Composer</th>\n",
       "      <th>Fav genre</th>\n",
       "      <th>Exploratory</th>\n",
       "      <th>Foreign languages</th>\n",
       "      <th>...</th>\n",
       "      <th>Frequency [R&amp;B]</th>\n",
       "      <th>Frequency [Rap]</th>\n",
       "      <th>Frequency [Rock]</th>\n",
       "      <th>Frequency [Video game music]</th>\n",
       "      <th>Anxiety</th>\n",
       "      <th>Depression</th>\n",
       "      <th>Insomnia</th>\n",
       "      <th>OCD</th>\n",
       "      <th>Music effects</th>\n",
       "      <th>Permissions</th>\n",
       "    </tr>\n",
       "  </thead>\n",
       "  <tbody>\n",
       "    <tr>\n",
       "      <th>0</th>\n",
       "      <td>8/27/2022 19:29:02</td>\n",
       "      <td>18.0</td>\n",
       "      <td>Spotify</td>\n",
       "      <td>3.0</td>\n",
       "      <td>Yes</td>\n",
       "      <td>Yes</td>\n",
       "      <td>Yes</td>\n",
       "      <td>Latin</td>\n",
       "      <td>Yes</td>\n",
       "      <td>Yes</td>\n",
       "      <td>...</td>\n",
       "      <td>Sometimes</td>\n",
       "      <td>Very frequently</td>\n",
       "      <td>Never</td>\n",
       "      <td>Sometimes</td>\n",
       "      <td>3.0</td>\n",
       "      <td>0.0</td>\n",
       "      <td>1.0</td>\n",
       "      <td>0.0</td>\n",
       "      <td>NaN</td>\n",
       "      <td>I understand.</td>\n",
       "    </tr>\n",
       "    <tr>\n",
       "      <th>1</th>\n",
       "      <td>8/27/2022 19:57:31</td>\n",
       "      <td>63.0</td>\n",
       "      <td>Pandora</td>\n",
       "      <td>1.5</td>\n",
       "      <td>Yes</td>\n",
       "      <td>No</td>\n",
       "      <td>No</td>\n",
       "      <td>Rock</td>\n",
       "      <td>Yes</td>\n",
       "      <td>No</td>\n",
       "      <td>...</td>\n",
       "      <td>Sometimes</td>\n",
       "      <td>Rarely</td>\n",
       "      <td>Very frequently</td>\n",
       "      <td>Rarely</td>\n",
       "      <td>7.0</td>\n",
       "      <td>2.0</td>\n",
       "      <td>2.0</td>\n",
       "      <td>1.0</td>\n",
       "      <td>NaN</td>\n",
       "      <td>I understand.</td>\n",
       "    </tr>\n",
       "  </tbody>\n",
       "</table>\n",
       "<p>2 rows × 33 columns</p>\n",
       "</div>"
      ],
      "text/plain": [
       "            Timestamp   Age Primary streaming service  Hours per day  \\\n",
       "0  8/27/2022 19:29:02  18.0                   Spotify            3.0   \n",
       "1  8/27/2022 19:57:31  63.0                   Pandora            1.5   \n",
       "\n",
       "  While working Instrumentalist Composer Fav genre Exploratory  \\\n",
       "0           Yes             Yes      Yes     Latin         Yes   \n",
       "1           Yes              No       No      Rock         Yes   \n",
       "\n",
       "  Foreign languages  ...  Frequency [R&B]  Frequency [Rap] Frequency [Rock]  \\\n",
       "0               Yes  ...        Sometimes  Very frequently            Never   \n",
       "1                No  ...        Sometimes           Rarely  Very frequently   \n",
       "\n",
       "  Frequency [Video game music] Anxiety Depression Insomnia  OCD Music effects  \\\n",
       "0                    Sometimes     3.0        0.0      1.0  0.0           NaN   \n",
       "1                       Rarely     7.0        2.0      2.0  1.0           NaN   \n",
       "\n",
       "     Permissions  \n",
       "0  I understand.  \n",
       "1  I understand.  \n",
       "\n",
       "[2 rows x 33 columns]"
      ]
     },
     "execution_count": 3,
     "metadata": {},
     "output_type": "execute_result"
    }
   ],
   "source": [
    "# Create a dataframe from CSV obtained in kagglehub API for survey results \n",
    "survey = pd.read_csv(\"mxmh_survey_results.csv\")\n",
    "\n",
    "# Show first two lines\n",
    "survey.head(2)"
   ]
  },
  {
   "cell_type": "code",
   "execution_count": 4,
   "metadata": {},
   "outputs": [
    {
     "data": {
      "text/html": [
       "<div>\n",
       "<style scoped>\n",
       "    .dataframe tbody tr th:only-of-type {\n",
       "        vertical-align: middle;\n",
       "    }\n",
       "\n",
       "    .dataframe tbody tr th {\n",
       "        vertical-align: top;\n",
       "    }\n",
       "\n",
       "    .dataframe thead th {\n",
       "        text-align: right;\n",
       "    }\n",
       "</style>\n",
       "<table border=\"1\" class=\"dataframe\">\n",
       "  <thead>\n",
       "    <tr style=\"text-align: right;\">\n",
       "      <th></th>\n",
       "      <th>energy</th>\n",
       "      <th>tempo</th>\n",
       "      <th>danceability</th>\n",
       "      <th>playlist_genre</th>\n",
       "      <th>loudness</th>\n",
       "      <th>liveness</th>\n",
       "      <th>valence</th>\n",
       "      <th>track_artist</th>\n",
       "      <th>time_signature</th>\n",
       "      <th>speechiness</th>\n",
       "      <th>...</th>\n",
       "      <th>instrumentalness</th>\n",
       "      <th>track_album_id</th>\n",
       "      <th>mode</th>\n",
       "      <th>key</th>\n",
       "      <th>duration_ms</th>\n",
       "      <th>acousticness</th>\n",
       "      <th>id</th>\n",
       "      <th>playlist_subgenre</th>\n",
       "      <th>type</th>\n",
       "      <th>playlist_id</th>\n",
       "    </tr>\n",
       "  </thead>\n",
       "  <tbody>\n",
       "    <tr>\n",
       "      <th>0</th>\n",
       "      <td>0.592</td>\n",
       "      <td>157.969</td>\n",
       "      <td>0.521</td>\n",
       "      <td>pop</td>\n",
       "      <td>-7.777</td>\n",
       "      <td>0.122</td>\n",
       "      <td>0.535</td>\n",
       "      <td>Lady Gaga, Bruno Mars</td>\n",
       "      <td>3</td>\n",
       "      <td>0.0304</td>\n",
       "      <td>...</td>\n",
       "      <td>0.0000</td>\n",
       "      <td>10FLjwfpbxLmW8c25Xyc2N</td>\n",
       "      <td>0</td>\n",
       "      <td>6</td>\n",
       "      <td>251668</td>\n",
       "      <td>0.308</td>\n",
       "      <td>2plbrEY59IikOBgBGLjaoe</td>\n",
       "      <td>mainstream</td>\n",
       "      <td>audio_features</td>\n",
       "      <td>37i9dQZF1DXcBWIGoYBM5M</td>\n",
       "    </tr>\n",
       "    <tr>\n",
       "      <th>1</th>\n",
       "      <td>0.507</td>\n",
       "      <td>104.978</td>\n",
       "      <td>0.747</td>\n",
       "      <td>pop</td>\n",
       "      <td>-10.171</td>\n",
       "      <td>0.117</td>\n",
       "      <td>0.438</td>\n",
       "      <td>Billie Eilish</td>\n",
       "      <td>4</td>\n",
       "      <td>0.0358</td>\n",
       "      <td>...</td>\n",
       "      <td>0.0608</td>\n",
       "      <td>7aJuG4TFXa2hmE4z1yxc3n</td>\n",
       "      <td>1</td>\n",
       "      <td>2</td>\n",
       "      <td>210373</td>\n",
       "      <td>0.200</td>\n",
       "      <td>6dOtVTDdiauQNBQEDOtlAB</td>\n",
       "      <td>mainstream</td>\n",
       "      <td>audio_features</td>\n",
       "      <td>37i9dQZF1DXcBWIGoYBM5M</td>\n",
       "    </tr>\n",
       "  </tbody>\n",
       "</table>\n",
       "<p>2 rows × 29 columns</p>\n",
       "</div>"
      ],
      "text/plain": [
       "   energy    tempo  danceability playlist_genre  loudness  liveness  valence  \\\n",
       "0   0.592  157.969         0.521            pop    -7.777     0.122    0.535   \n",
       "1   0.507  104.978         0.747            pop   -10.171     0.117    0.438   \n",
       "\n",
       "            track_artist  time_signature  speechiness  ...  instrumentalness  \\\n",
       "0  Lady Gaga, Bruno Mars               3       0.0304  ...            0.0000   \n",
       "1          Billie Eilish               4       0.0358  ...            0.0608   \n",
       "\n",
       "           track_album_id mode key duration_ms acousticness  \\\n",
       "0  10FLjwfpbxLmW8c25Xyc2N    0   6      251668        0.308   \n",
       "1  7aJuG4TFXa2hmE4z1yxc3n    1   2      210373        0.200   \n",
       "\n",
       "                       id playlist_subgenre            type  \\\n",
       "0  2plbrEY59IikOBgBGLjaoe        mainstream  audio_features   \n",
       "1  6dOtVTDdiauQNBQEDOtlAB        mainstream  audio_features   \n",
       "\n",
       "              playlist_id  \n",
       "0  37i9dQZF1DXcBWIGoYBM5M  \n",
       "1  37i9dQZF1DXcBWIGoYBM5M  \n",
       "\n",
       "[2 rows x 29 columns]"
      ]
     },
     "execution_count": 4,
     "metadata": {},
     "output_type": "execute_result"
    }
   ],
   "source": [
    "# Create a dataframe for high popularity spotify\n",
    "high_spotify = pd.read_csv(\"high_popularity_spotify_data.csv\")\n",
    "\n",
    "# Show first two lines\n",
    "high_spotify.head(2)"
   ]
  },
  {
   "cell_type": "code",
   "execution_count": 5,
   "metadata": {},
   "outputs": [
    {
     "data": {
      "text/html": [
       "<div>\n",
       "<style scoped>\n",
       "    .dataframe tbody tr th:only-of-type {\n",
       "        vertical-align: middle;\n",
       "    }\n",
       "\n",
       "    .dataframe tbody tr th {\n",
       "        vertical-align: top;\n",
       "    }\n",
       "\n",
       "    .dataframe thead th {\n",
       "        text-align: right;\n",
       "    }\n",
       "</style>\n",
       "<table border=\"1\" class=\"dataframe\">\n",
       "  <thead>\n",
       "    <tr style=\"text-align: right;\">\n",
       "      <th></th>\n",
       "      <th>time_signature</th>\n",
       "      <th>track_popularity</th>\n",
       "      <th>speechiness</th>\n",
       "      <th>danceability</th>\n",
       "      <th>playlist_name</th>\n",
       "      <th>track_artist</th>\n",
       "      <th>duration_ms</th>\n",
       "      <th>energy</th>\n",
       "      <th>playlist_genre</th>\n",
       "      <th>playlist_subgenre</th>\n",
       "      <th>...</th>\n",
       "      <th>track_album_id</th>\n",
       "      <th>playlist_id</th>\n",
       "      <th>track_id</th>\n",
       "      <th>valence</th>\n",
       "      <th>key</th>\n",
       "      <th>tempo</th>\n",
       "      <th>loudness</th>\n",
       "      <th>acousticness</th>\n",
       "      <th>liveness</th>\n",
       "      <th>track_album_name</th>\n",
       "    </tr>\n",
       "  </thead>\n",
       "  <tbody>\n",
       "    <tr>\n",
       "      <th>0</th>\n",
       "      <td>4.0</td>\n",
       "      <td>23</td>\n",
       "      <td>0.0393</td>\n",
       "      <td>0.636</td>\n",
       "      <td>Rock Classics</td>\n",
       "      <td>Creedence Clearwater Revival</td>\n",
       "      <td>138053.0</td>\n",
       "      <td>0.746</td>\n",
       "      <td>rock</td>\n",
       "      <td>classic</td>\n",
       "      <td>...</td>\n",
       "      <td>4A8gFwqd9jTtnsNwUu3OQx</td>\n",
       "      <td>37i9dQZF1DWXRqgorJj26U</td>\n",
       "      <td>5e6x5YRnMJIKvYpZxLqdpH</td>\n",
       "      <td>0.432</td>\n",
       "      <td>0.0</td>\n",
       "      <td>132.310</td>\n",
       "      <td>-3.785</td>\n",
       "      <td>0.0648</td>\n",
       "      <td>0.1730</td>\n",
       "      <td>The Long Road Home - The Ultimate John Fogerty...</td>\n",
       "    </tr>\n",
       "    <tr>\n",
       "      <th>1</th>\n",
       "      <td>4.0</td>\n",
       "      <td>53</td>\n",
       "      <td>0.0317</td>\n",
       "      <td>0.572</td>\n",
       "      <td>Rock Classics</td>\n",
       "      <td>Van Halen</td>\n",
       "      <td>241600.0</td>\n",
       "      <td>0.835</td>\n",
       "      <td>rock</td>\n",
       "      <td>classic</td>\n",
       "      <td>...</td>\n",
       "      <td>2c965LEDRNrXXCeBOAAwns</td>\n",
       "      <td>37i9dQZF1DWXRqgorJj26U</td>\n",
       "      <td>5FqYA8KfiwsQvyBI4IamnY</td>\n",
       "      <td>0.795</td>\n",
       "      <td>0.0</td>\n",
       "      <td>129.981</td>\n",
       "      <td>-6.219</td>\n",
       "      <td>0.1710</td>\n",
       "      <td>0.0702</td>\n",
       "      <td>The Collection</td>\n",
       "    </tr>\n",
       "  </tbody>\n",
       "</table>\n",
       "<p>2 rows × 29 columns</p>\n",
       "</div>"
      ],
      "text/plain": [
       "   time_signature  track_popularity  speechiness  danceability  playlist_name  \\\n",
       "0             4.0                23       0.0393         0.636  Rock Classics   \n",
       "1             4.0                53       0.0317         0.572  Rock Classics   \n",
       "\n",
       "                   track_artist  duration_ms  energy playlist_genre  \\\n",
       "0  Creedence Clearwater Revival     138053.0   0.746           rock   \n",
       "1                     Van Halen     241600.0   0.835           rock   \n",
       "\n",
       "  playlist_subgenre  ...          track_album_id             playlist_id  \\\n",
       "0           classic  ...  4A8gFwqd9jTtnsNwUu3OQx  37i9dQZF1DWXRqgorJj26U   \n",
       "1           classic  ...  2c965LEDRNrXXCeBOAAwns  37i9dQZF1DWXRqgorJj26U   \n",
       "\n",
       "                 track_id valence  key    tempo loudness acousticness  \\\n",
       "0  5e6x5YRnMJIKvYpZxLqdpH   0.432  0.0  132.310   -3.785       0.0648   \n",
       "1  5FqYA8KfiwsQvyBI4IamnY   0.795  0.0  129.981   -6.219       0.1710   \n",
       "\n",
       "   liveness                                   track_album_name  \n",
       "0    0.1730  The Long Road Home - The Ultimate John Fogerty...  \n",
       "1    0.0702                                     The Collection  \n",
       "\n",
       "[2 rows x 29 columns]"
      ]
     },
     "execution_count": 5,
     "metadata": {},
     "output_type": "execute_result"
    }
   ],
   "source": [
    "# Create a dataframe for low popularity spotify\n",
    "low_spotify = pd.read_csv(\"low_popularity_spotify_data.csv\")\n",
    "\n",
    "# Show first two lines\n",
    "low_spotify.head(2)"
   ]
  },
  {
   "cell_type": "code",
   "execution_count": 6,
   "metadata": {},
   "outputs": [
    {
     "data": {
      "text/plain": [
       "Index(['Timestamp', 'Age', 'Primary streaming service', 'Hours per day',\n",
       "       'While working', 'Instrumentalist', 'Composer', 'Fav genre',\n",
       "       'Exploratory', 'Foreign languages', 'BPM', 'Frequency [Classical]',\n",
       "       'Frequency [Country]', 'Frequency [EDM]', 'Frequency [Folk]',\n",
       "       'Frequency [Gospel]', 'Frequency [Hip hop]', 'Frequency [Jazz]',\n",
       "       'Frequency [K pop]', 'Frequency [Latin]', 'Frequency [Lofi]',\n",
       "       'Frequency [Metal]', 'Frequency [Pop]', 'Frequency [R&B]',\n",
       "       'Frequency [Rap]', 'Frequency [Rock]', 'Frequency [Video game music]',\n",
       "       'Anxiety', 'Depression', 'Insomnia', 'OCD', 'Music effects',\n",
       "       'Permissions'],\n",
       "      dtype='object')"
      ]
     },
     "execution_count": 6,
     "metadata": {},
     "output_type": "execute_result"
    }
   ],
   "source": [
    "# Review of column headers in survey data\n",
    "\n",
    "survey.columns"
   ]
  },
  {
   "cell_type": "code",
   "execution_count": 7,
   "metadata": {},
   "outputs": [
    {
     "data": {
      "text/plain": [
       "Index(['Timestamp', 'Age', 'Primary streaming service', 'Hours per day',\n",
       "       'While working', 'Instrumentalist', 'Composer', 'Fav genre',\n",
       "       'Exploratory', 'Foreign languages', 'BPM', 'Classical', 'Country',\n",
       "       'EDM', 'Folk', 'Gospel', 'Hip hop', 'Jazz', 'K pop', 'Latin', 'Lofi',\n",
       "       'Metal', 'Pop', 'R&B', 'Rap', 'Rock', 'Video game music', 'Anxiety',\n",
       "       'Depression', 'Insomnia', 'OCD', 'Music effects', 'Permissions'],\n",
       "      dtype='object')"
      ]
     },
     "execution_count": 7,
     "metadata": {},
     "output_type": "execute_result"
    }
   ],
   "source": [
    "# Survey Column Header Clean up removing Word Frequency and square brackets from genre types\n",
    "\n",
    "survey.columns = survey.columns.str.replace(r'Frequency\\s*\\[(.*?)\\]', r'\\1', regex=True)\n",
    "\n",
    "survey.columns"
   ]
  },
  {
   "cell_type": "code",
   "execution_count": 8,
   "metadata": {},
   "outputs": [],
   "source": [
    "# Selecting columns to drop\n",
    "cols_to_drop= ['Timestamp', 'Age','Hours per day',\n",
    "       'While working', 'Instrumentalist', 'Composer',\n",
    "       'Exploratory', 'Foreign languages', 'Classical', 'Country',\n",
    "       'EDM', 'Folk', 'Gospel', 'Hip hop', 'Jazz', 'K pop', 'Latin', 'Lofi',\n",
    "       'Metal', 'Pop', 'R&B', 'Rap', 'Rock', 'Video game music', 'Permissions']\n",
    "\n",
    "# Dropping Columns\n",
    "survey = survey.drop(columns= cols_to_drop)"
   ]
  },
  {
   "cell_type": "code",
   "execution_count": 9,
   "metadata": {},
   "outputs": [
    {
     "data": {
      "text/html": [
       "<div>\n",
       "<style scoped>\n",
       "    .dataframe tbody tr th:only-of-type {\n",
       "        vertical-align: middle;\n",
       "    }\n",
       "\n",
       "    .dataframe tbody tr th {\n",
       "        vertical-align: top;\n",
       "    }\n",
       "\n",
       "    .dataframe thead th {\n",
       "        text-align: right;\n",
       "    }\n",
       "</style>\n",
       "<table border=\"1\" class=\"dataframe\">\n",
       "  <thead>\n",
       "    <tr style=\"text-align: right;\">\n",
       "      <th></th>\n",
       "      <th>primary streaming service</th>\n",
       "      <th>genre</th>\n",
       "      <th>tempo</th>\n",
       "      <th>anxiety</th>\n",
       "      <th>depression</th>\n",
       "      <th>insomnia</th>\n",
       "      <th>ocd</th>\n",
       "      <th>music effects</th>\n",
       "    </tr>\n",
       "  </thead>\n",
       "  <tbody>\n",
       "    <tr>\n",
       "      <th>0</th>\n",
       "      <td>Spotify</td>\n",
       "      <td>latin</td>\n",
       "      <td>156.0</td>\n",
       "      <td>3.0</td>\n",
       "      <td>0.0</td>\n",
       "      <td>1.0</td>\n",
       "      <td>0.0</td>\n",
       "      <td>NaN</td>\n",
       "    </tr>\n",
       "    <tr>\n",
       "      <th>1</th>\n",
       "      <td>Pandora</td>\n",
       "      <td>rock</td>\n",
       "      <td>119.0</td>\n",
       "      <td>7.0</td>\n",
       "      <td>2.0</td>\n",
       "      <td>2.0</td>\n",
       "      <td>1.0</td>\n",
       "      <td>NaN</td>\n",
       "    </tr>\n",
       "  </tbody>\n",
       "</table>\n",
       "</div>"
      ],
      "text/plain": [
       "  primary streaming service  genre  tempo  anxiety  depression  insomnia  ocd  \\\n",
       "0                   Spotify  latin  156.0      3.0         0.0       1.0  0.0   \n",
       "1                   Pandora   rock  119.0      7.0         2.0       2.0  1.0   \n",
       "\n",
       "  music effects  \n",
       "0           NaN  \n",
       "1           NaN  "
      ]
     },
     "execution_count": 9,
     "metadata": {},
     "output_type": "execute_result"
    }
   ],
   "source": [
    "# Renaming column BPM with tempo\n",
    "survey = survey.rename(columns={'BPM': 'tempo'})\n",
    "\n",
    "# Renaming column Fav genre with genre\n",
    "survey = survey.rename(columns={'Fav genre': 'genre'})\n",
    "\n",
    "# Lower case to column headers\n",
    "survey.columns = survey.columns.str.lower()\n",
    "\n",
    "# Applying lowercase to column genre\n",
    "survey['genre'] = survey['genre'].str.lower()\n",
    "\n",
    "# checking first 2 rows\n",
    "survey.head(2)"
   ]
  },
  {
   "cell_type": "code",
   "execution_count": 10,
   "metadata": {},
   "outputs": [
    {
     "data": {
      "text/html": [
       "<div>\n",
       "<style scoped>\n",
       "    .dataframe tbody tr th:only-of-type {\n",
       "        vertical-align: middle;\n",
       "    }\n",
       "\n",
       "    .dataframe tbody tr th {\n",
       "        vertical-align: top;\n",
       "    }\n",
       "\n",
       "    .dataframe thead th {\n",
       "        text-align: right;\n",
       "    }\n",
       "</style>\n",
       "<table border=\"1\" class=\"dataframe\">\n",
       "  <thead>\n",
       "    <tr style=\"text-align: right;\">\n",
       "      <th></th>\n",
       "      <th>primary streaming service</th>\n",
       "      <th>genre</th>\n",
       "      <th>tempo</th>\n",
       "      <th>anxiety</th>\n",
       "      <th>depression</th>\n",
       "      <th>insomnia</th>\n",
       "      <th>ocd</th>\n",
       "      <th>music effects</th>\n",
       "    </tr>\n",
       "  </thead>\n",
       "  <tbody>\n",
       "    <tr>\n",
       "      <th>0</th>\n",
       "      <td>Spotify</td>\n",
       "      <td>latin</td>\n",
       "      <td>156.0</td>\n",
       "      <td>3.0</td>\n",
       "      <td>0.0</td>\n",
       "      <td>1.0</td>\n",
       "      <td>0.0</td>\n",
       "      <td>NaN</td>\n",
       "    </tr>\n",
       "    <tr>\n",
       "      <th>2</th>\n",
       "      <td>Spotify</td>\n",
       "      <td>video game music</td>\n",
       "      <td>132.0</td>\n",
       "      <td>7.0</td>\n",
       "      <td>7.0</td>\n",
       "      <td>10.0</td>\n",
       "      <td>2.0</td>\n",
       "      <td>No effect</td>\n",
       "    </tr>\n",
       "  </tbody>\n",
       "</table>\n",
       "</div>"
      ],
      "text/plain": [
       "  primary streaming service             genre  tempo  anxiety  depression  \\\n",
       "0                   Spotify             latin  156.0      3.0         0.0   \n",
       "2                   Spotify  video game music  132.0      7.0         7.0   \n",
       "\n",
       "   insomnia  ocd music effects  \n",
       "0       1.0  0.0           NaN  \n",
       "2      10.0  2.0     No effect  "
      ]
     },
     "execution_count": 10,
     "metadata": {},
     "output_type": "execute_result"
    }
   ],
   "source": [
    "# Filtering for Primary streaming service of spotify since other data is a spotify dataset\n",
    "\n",
    "survey_filtered = survey[survey['primary streaming service']== 'Spotify']\n",
    "\n",
    "survey_filtered.head(2)\n",
    "\n"
   ]
  },
  {
   "cell_type": "code",
   "execution_count": 11,
   "metadata": {},
   "outputs": [
    {
     "data": {
      "text/plain": [
       "Index(['primary streaming service', 'genre', 'tempo', 'anxiety', 'depression',\n",
       "       'insomnia', 'ocd', 'music effects'],\n",
       "      dtype='object')"
      ]
     },
     "execution_count": 11,
     "metadata": {},
     "output_type": "execute_result"
    }
   ],
   "source": [
    "survey.columns"
   ]
  },
  {
   "cell_type": "code",
   "execution_count": 12,
   "metadata": {},
   "outputs": [
    {
     "data": {
      "text/plain": [
       "(1686, 29)"
      ]
     },
     "execution_count": 12,
     "metadata": {},
     "output_type": "execute_result"
    }
   ],
   "source": [
    "high_spotify.shape"
   ]
  },
  {
   "cell_type": "code",
   "execution_count": 13,
   "metadata": {},
   "outputs": [
    {
     "data": {
      "text/plain": [
       "(3145, 29)"
      ]
     },
     "execution_count": 13,
     "metadata": {},
     "output_type": "execute_result"
    }
   ],
   "source": [
    "low_spotify.shape"
   ]
  },
  {
   "cell_type": "code",
   "execution_count": 14,
   "metadata": {},
   "outputs": [
    {
     "data": {
      "text/html": [
       "<div>\n",
       "<style scoped>\n",
       "    .dataframe tbody tr th:only-of-type {\n",
       "        vertical-align: middle;\n",
       "    }\n",
       "\n",
       "    .dataframe tbody tr th {\n",
       "        vertical-align: top;\n",
       "    }\n",
       "\n",
       "    .dataframe thead th {\n",
       "        text-align: right;\n",
       "    }\n",
       "</style>\n",
       "<table border=\"1\" class=\"dataframe\">\n",
       "  <thead>\n",
       "    <tr style=\"text-align: right;\">\n",
       "      <th></th>\n",
       "      <th>tempo</th>\n",
       "      <th>playlist_genre</th>\n",
       "      <th>track_artist</th>\n",
       "      <th>track_id</th>\n",
       "      <th>track_name</th>\n",
       "      <th>track_popularity</th>\n",
       "    </tr>\n",
       "  </thead>\n",
       "  <tbody>\n",
       "    <tr>\n",
       "      <th>0</th>\n",
       "      <td>NaN</td>\n",
       "      <td>lofi</td>\n",
       "      <td>Berhanio</td>\n",
       "      <td>2teI76KKFE6qkpLZJs7tZ7</td>\n",
       "      <td>Make It</td>\n",
       "      <td>50</td>\n",
       "    </tr>\n",
       "    <tr>\n",
       "      <th>1</th>\n",
       "      <td>48.232</td>\n",
       "      <td>electronic</td>\n",
       "      <td>Peter Sandberg</td>\n",
       "      <td>7qt641kuazHzMIn4lbkns5</td>\n",
       "      <td>Deep</td>\n",
       "      <td>37</td>\n",
       "    </tr>\n",
       "    <tr>\n",
       "      <th>2</th>\n",
       "      <td>49.305</td>\n",
       "      <td>hip-hop</td>\n",
       "      <td>The Alchemist, Boldy James</td>\n",
       "      <td>5467KZaTToEB680WvOd9w5</td>\n",
       "      <td>Ocean Prime (feat. Boldy James)</td>\n",
       "      <td>68</td>\n",
       "    </tr>\n",
       "    <tr>\n",
       "      <th>3</th>\n",
       "      <td>50.827</td>\n",
       "      <td>pop</td>\n",
       "      <td>Forest Blakk</td>\n",
       "      <td>727Z2S2mtNH46CbP9EWPwY</td>\n",
       "      <td>If You Love Her</td>\n",
       "      <td>72</td>\n",
       "    </tr>\n",
       "    <tr>\n",
       "      <th>4</th>\n",
       "      <td>52.248</td>\n",
       "      <td>electronic</td>\n",
       "      <td>Sailsetter</td>\n",
       "      <td>06MlFhCl7jYNOlHgmNsooS</td>\n",
       "      <td>Northern</td>\n",
       "      <td>35</td>\n",
       "    </tr>\n",
       "  </tbody>\n",
       "</table>\n",
       "</div>"
      ],
      "text/plain": [
       "    tempo playlist_genre                track_artist                track_id  \\\n",
       "0     NaN           lofi                    Berhanio  2teI76KKFE6qkpLZJs7tZ7   \n",
       "1  48.232     electronic              Peter Sandberg  7qt641kuazHzMIn4lbkns5   \n",
       "2  49.305        hip-hop  The Alchemist, Boldy James  5467KZaTToEB680WvOd9w5   \n",
       "3  50.827            pop                Forest Blakk  727Z2S2mtNH46CbP9EWPwY   \n",
       "4  52.248     electronic                  Sailsetter  06MlFhCl7jYNOlHgmNsooS   \n",
       "\n",
       "                        track_name  track_popularity  \n",
       "0                          Make It                50  \n",
       "1                             Deep                37  \n",
       "2  Ocean Prime (feat. Boldy James)                68  \n",
       "3                  If You Love Her                72  \n",
       "4                         Northern                35  "
      ]
     },
     "execution_count": 14,
     "metadata": {},
     "output_type": "execute_result"
    }
   ],
   "source": [
    "# Used exported csv from DBBrowser of unioned high popularity and low popularity. \n",
    "# With this union the duplicates were removed\n",
    "\n",
    "\n",
    "unioned_spotify = pd.read_csv('Unioned_Popularity_Spotify.csv')\n",
    "\n",
    "unioned_spotify.head()"
   ]
  },
  {
   "cell_type": "code",
   "execution_count": 15,
   "metadata": {},
   "outputs": [
    {
     "data": {
      "text/plain": [
       "(4676, 6)"
      ]
     },
     "execution_count": 15,
     "metadata": {},
     "output_type": "execute_result"
    }
   ],
   "source": [
    "# shape of combined low and high popularity with duplicates removed\n",
    "\n",
    "unioned_spotify.shape"
   ]
  },
  {
   "cell_type": "code",
   "execution_count": 16,
   "metadata": {},
   "outputs": [
    {
     "data": {
      "text/plain": [
       "(4831, 6)"
      ]
     },
     "execution_count": 16,
     "metadata": {},
     "output_type": "execute_result"
    }
   ],
   "source": [
    "# For illustrative purposes added the union all \n",
    "unioned_all_spotify = pd.read_csv('union_all_popularity_spotify.csv')\n",
    "\n",
    "# This shape shows that all rows from low_popularity and high_popularity were combined\n",
    "unioned_all_spotify.shape"
   ]
  },
  {
   "cell_type": "code",
   "execution_count": 17,
   "metadata": {},
   "outputs": [
    {
     "data": {
      "text/plain": [
       "tempo               float64\n",
       "playlist_genre       object\n",
       "track_artist         object\n",
       "track_id             object\n",
       "track_name           object\n",
       "track_popularity      int64\n",
       "dtype: object"
      ]
     },
     "execution_count": 17,
     "metadata": {},
     "output_type": "execute_result"
    }
   ],
   "source": [
    "# Checking data types\n",
    "unioned_spotify.dtypes"
   ]
  },
  {
   "cell_type": "code",
   "execution_count": 18,
   "metadata": {},
   "outputs": [],
   "source": [
    "# Renaming column playlist_genre with genre\n",
    "unioned_spotify = unioned_spotify.rename(columns={'playlist_genre': 'genre'})\n",
    "\n"
   ]
  },
  {
   "cell_type": "code",
   "execution_count": 19,
   "metadata": {},
   "outputs": [
    {
     "data": {
      "text/html": [
       "<div>\n",
       "<style scoped>\n",
       "    .dataframe tbody tr th:only-of-type {\n",
       "        vertical-align: middle;\n",
       "    }\n",
       "\n",
       "    .dataframe tbody tr th {\n",
       "        vertical-align: top;\n",
       "    }\n",
       "\n",
       "    .dataframe thead th {\n",
       "        text-align: right;\n",
       "    }\n",
       "</style>\n",
       "<table border=\"1\" class=\"dataframe\">\n",
       "  <thead>\n",
       "    <tr style=\"text-align: right;\">\n",
       "      <th></th>\n",
       "      <th>tempo</th>\n",
       "      <th>genre</th>\n",
       "      <th>track_artist</th>\n",
       "      <th>track_id</th>\n",
       "      <th>track_name</th>\n",
       "      <th>track_popularity</th>\n",
       "    </tr>\n",
       "  </thead>\n",
       "  <tbody>\n",
       "    <tr>\n",
       "      <th>1</th>\n",
       "      <td>48.2</td>\n",
       "      <td>electronic</td>\n",
       "      <td>Peter Sandberg</td>\n",
       "      <td>7qt641kuazHzMIn4lbkns5</td>\n",
       "      <td>Deep</td>\n",
       "      <td>37</td>\n",
       "    </tr>\n",
       "    <tr>\n",
       "      <th>2</th>\n",
       "      <td>49.3</td>\n",
       "      <td>hip-hop</td>\n",
       "      <td>The Alchemist, Boldy James</td>\n",
       "      <td>5467KZaTToEB680WvOd9w5</td>\n",
       "      <td>Ocean Prime (feat. Boldy James)</td>\n",
       "      <td>68</td>\n",
       "    </tr>\n",
       "  </tbody>\n",
       "</table>\n",
       "</div>"
      ],
      "text/plain": [
       "   tempo       genre                track_artist                track_id  \\\n",
       "1   48.2  electronic              Peter Sandberg  7qt641kuazHzMIn4lbkns5   \n",
       "2   49.3     hip-hop  The Alchemist, Boldy James  5467KZaTToEB680WvOd9w5   \n",
       "\n",
       "                        track_name  track_popularity  \n",
       "1                             Deep                37  \n",
       "2  Ocean Prime (feat. Boldy James)                68  "
      ]
     },
     "execution_count": 19,
     "metadata": {},
     "output_type": "execute_result"
    }
   ],
   "source": [
    "# Dropping rows with NaN value in tempo\n",
    "unioned_spotify = unioned_spotify.dropna(subset=['tempo'])\n",
    "\n",
    "# Converting tempo from float to int\n",
    "unioned_spotify['tempo'] = unioned_spotify['tempo'].astype(float).round(1)\n",
    "\n",
    "# Viewing first 2 rows\n",
    "unioned_spotify.head(2)\n"
   ]
  },
  {
   "cell_type": "code",
   "execution_count": 20,
   "metadata": {},
   "outputs": [
    {
     "name": "stdout",
     "output_type": "stream",
     "text": [
      "['latin' 'video game music' 'r&b' 'jazz' 'k pop' 'rock' 'country'\n",
      " 'hip hop' 'pop' 'rap' 'classical' 'metal' 'edm' 'folk' 'lofi' 'gospel']\n"
     ]
    }
   ],
   "source": [
    "# Checking columns to be used as shared column for uniqueness\n",
    "unique_genres = survey_filtered['genre'].unique()\n",
    "\n",
    "print(unique_genres)"
   ]
  },
  {
   "cell_type": "code",
   "execution_count": 21,
   "metadata": {},
   "outputs": [
    {
     "name": "stdout",
     "output_type": "stream",
     "text": [
      "['electronic' 'hip-hop' 'pop' 'folk' 'lofi' 'classical' 'ambient' 'jazz'\n",
      " 'wellness' 'arabic' 'soul' 'brazilian' 'blues' 'r&b' 'gaming' 'world'\n",
      " 'afrobeats' 'latin' 'gospel' 'cantopop' 'country' 'metal' 'rock' 'reggae'\n",
      " 'korean' 'indian' 'mandopop' 'indie' 'punk' 'j-pop' 'turkish' 'k-pop'\n",
      " 'funk' 'disco' 'soca']\n"
     ]
    }
   ],
   "source": [
    "# Checking columns to be used as shared column for uniqueness\n",
    "unique_genres_spotify = unioned_spotify['genre'].unique()\n",
    "\n",
    "print(unique_genres_spotify)"
   ]
  },
  {
   "cell_type": "code",
   "execution_count": 22,
   "metadata": {},
   "outputs": [
    {
     "data": {
      "text/html": [
       "<div>\n",
       "<style scoped>\n",
       "    .dataframe tbody tr th:only-of-type {\n",
       "        vertical-align: middle;\n",
       "    }\n",
       "\n",
       "    .dataframe tbody tr th {\n",
       "        vertical-align: top;\n",
       "    }\n",
       "\n",
       "    .dataframe thead th {\n",
       "        text-align: right;\n",
       "    }\n",
       "</style>\n",
       "<table border=\"1\" class=\"dataframe\">\n",
       "  <thead>\n",
       "    <tr style=\"text-align: right;\">\n",
       "      <th></th>\n",
       "      <th>primary streaming service</th>\n",
       "      <th>genre</th>\n",
       "      <th>tempo</th>\n",
       "      <th>anxiety</th>\n",
       "      <th>depression</th>\n",
       "      <th>insomnia</th>\n",
       "      <th>ocd</th>\n",
       "      <th>music effects</th>\n",
       "    </tr>\n",
       "  </thead>\n",
       "  <tbody>\n",
       "    <tr>\n",
       "      <th>0</th>\n",
       "      <td>Spotify</td>\n",
       "      <td>video game music</td>\n",
       "      <td>132.0</td>\n",
       "      <td>7.0</td>\n",
       "      <td>7.0</td>\n",
       "      <td>10.0</td>\n",
       "      <td>2.0</td>\n",
       "      <td>No effect</td>\n",
       "    </tr>\n",
       "    <tr>\n",
       "      <th>1</th>\n",
       "      <td>Spotify</td>\n",
       "      <td>r&amp;b</td>\n",
       "      <td>107.0</td>\n",
       "      <td>7.0</td>\n",
       "      <td>2.0</td>\n",
       "      <td>5.0</td>\n",
       "      <td>9.0</td>\n",
       "      <td>Improve</td>\n",
       "    </tr>\n",
       "    <tr>\n",
       "      <th>2</th>\n",
       "      <td>Spotify</td>\n",
       "      <td>jazz</td>\n",
       "      <td>86.0</td>\n",
       "      <td>8.0</td>\n",
       "      <td>8.0</td>\n",
       "      <td>7.0</td>\n",
       "      <td>7.0</td>\n",
       "      <td>Improve</td>\n",
       "    </tr>\n",
       "    <tr>\n",
       "      <th>3</th>\n",
       "      <td>Spotify</td>\n",
       "      <td>k pop</td>\n",
       "      <td>95.0</td>\n",
       "      <td>5.0</td>\n",
       "      <td>3.0</td>\n",
       "      <td>5.0</td>\n",
       "      <td>3.0</td>\n",
       "      <td>Improve</td>\n",
       "    </tr>\n",
       "    <tr>\n",
       "      <th>4</th>\n",
       "      <td>Spotify</td>\n",
       "      <td>rock</td>\n",
       "      <td>94.0</td>\n",
       "      <td>2.0</td>\n",
       "      <td>0.0</td>\n",
       "      <td>0.0</td>\n",
       "      <td>0.0</td>\n",
       "      <td>Improve</td>\n",
       "    </tr>\n",
       "  </tbody>\n",
       "</table>\n",
       "</div>"
      ],
      "text/plain": [
       "  primary streaming service             genre  tempo  anxiety  depression  \\\n",
       "0                   Spotify  video game music  132.0      7.0         7.0   \n",
       "1                   Spotify               r&b  107.0      7.0         2.0   \n",
       "2                   Spotify              jazz   86.0      8.0         8.0   \n",
       "3                   Spotify             k pop   95.0      5.0         3.0   \n",
       "4                   Spotify              rock   94.0      2.0         0.0   \n",
       "\n",
       "   insomnia  ocd music effects  \n",
       "0      10.0  2.0     No effect  \n",
       "1       5.0  9.0       Improve  \n",
       "2       7.0  7.0       Improve  \n",
       "3       5.0  3.0       Improve  \n",
       "4       0.0  0.0       Improve  "
      ]
     },
     "execution_count": 22,
     "metadata": {},
     "output_type": "execute_result"
    }
   ],
   "source": [
    "# Drop NaN in music effects\n",
    "survey_filtered = survey_filtered.dropna(subset= ['music effects']).reset_index(drop=True)\n",
    "survey_filtered.head()"
   ]
  },
  {
   "cell_type": "code",
   "execution_count": 23,
   "metadata": {},
   "outputs": [],
   "source": [
    "# Stacking the df vertically \n",
    "# combined = pd.concat([survey_filtered, unioned_spotify], ignore_index=True, sort=False)\n",
    "\n",
    "# combined"
   ]
  }
 ],
 "metadata": {
  "kernelspec": {
   "display_name": "Python 3",
   "language": "python",
   "name": "python3"
  },
  "language_info": {
   "codemirror_mode": {
    "name": "ipython",
    "version": 3
   },
   "file_extension": ".py",
   "mimetype": "text/x-python",
   "name": "python",
   "nbconvert_exporter": "python",
   "pygments_lexer": "ipython3",
   "version": "3.13.0"
  }
 },
 "nbformat": 4,
 "nbformat_minor": 2
}
