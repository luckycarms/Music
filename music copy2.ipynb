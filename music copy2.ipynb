{
 "cells": [
  {
   "cell_type": "code",
   "execution_count": 1,
   "metadata": {},
   "outputs": [
    {
     "data": {
      "text/plain": [
       "'/usr/local/bin/python3'"
      ]
     },
     "execution_count": 1,
     "metadata": {},
     "output_type": "execute_result"
    }
   ],
   "source": [
    "import sys\n",
    "sys.executable\n"
   ]
  },
  {
   "cell_type": "code",
   "execution_count": null,
   "metadata": {},
   "outputs": [],
   "source": [
    "\n"
   ]
  },
  {
   "cell_type": "code",
   "execution_count": 2,
   "metadata": {},
   "outputs": [],
   "source": [
    "# Import pandas sqlite3 matplotlib seaborn\n",
    "import pandas as pd\n",
    "import numpy as np\n",
    "import sqlite3\n",
    "import seaborn as sns\n",
    "import matplotlib.pyplot as plt\n",
    "from scipy.io import wavfile\n",
    "from scipy.signal import spectrogram\n",
    "from statsmodels.stats.proportion import proportions_ztest\n",
    "from statsmodels.stats.proportion import proportion_confint\n",
    "import scipy.stats as stats \n",
    "from itertools import combinations\n",
    "\n"
   ]
  },
  {
   "cell_type": "code",
   "execution_count": 3,
   "metadata": {},
   "outputs": [
    {
     "name": "stdout",
     "output_type": "stream",
     "text": [
      "Warning: Looks like you're using an outdated `kagglehub` version (installed: 0.3.6), please consider upgrading to the latest version (0.3.10).\n",
      "Path to dataset files: /Users/luckyc/.cache/kagglehub/datasets/catherinerasgaitis/mxmh-survey-results/versions/1\n"
     ]
    }
   ],
   "source": [
    "# Import Kagglehub API and get data\n",
    "import kagglehub\n",
    "\n",
    "# Download latest version\n",
    "path = kagglehub.dataset_download(\"catherinerasgaitis/mxmh-survey-results\")\n",
    "\n",
    "print(\"Path to dataset files:\", path)"
   ]
  },
  {
   "cell_type": "code",
   "execution_count": 4,
   "metadata": {},
   "outputs": [
    {
     "data": {
      "text/html": [
       "<div>\n",
       "<style scoped>\n",
       "    .dataframe tbody tr th:only-of-type {\n",
       "        vertical-align: middle;\n",
       "    }\n",
       "\n",
       "    .dataframe tbody tr th {\n",
       "        vertical-align: top;\n",
       "    }\n",
       "\n",
       "    .dataframe thead th {\n",
       "        text-align: right;\n",
       "    }\n",
       "</style>\n",
       "<table border=\"1\" class=\"dataframe\">\n",
       "  <thead>\n",
       "    <tr style=\"text-align: right;\">\n",
       "      <th></th>\n",
       "      <th>Timestamp</th>\n",
       "      <th>Age</th>\n",
       "      <th>Primary streaming service</th>\n",
       "      <th>Hours per day</th>\n",
       "      <th>While working</th>\n",
       "      <th>Instrumentalist</th>\n",
       "      <th>Composer</th>\n",
       "      <th>Fav genre</th>\n",
       "      <th>Exploratory</th>\n",
       "      <th>Foreign languages</th>\n",
       "      <th>...</th>\n",
       "      <th>Frequency [R&amp;B]</th>\n",
       "      <th>Frequency [Rap]</th>\n",
       "      <th>Frequency [Rock]</th>\n",
       "      <th>Frequency [Video game music]</th>\n",
       "      <th>Anxiety</th>\n",
       "      <th>Depression</th>\n",
       "      <th>Insomnia</th>\n",
       "      <th>OCD</th>\n",
       "      <th>Music effects</th>\n",
       "      <th>Permissions</th>\n",
       "    </tr>\n",
       "  </thead>\n",
       "  <tbody>\n",
       "    <tr>\n",
       "      <th>0</th>\n",
       "      <td>8/27/2022 19:29:02</td>\n",
       "      <td>18.0</td>\n",
       "      <td>Spotify</td>\n",
       "      <td>3.0</td>\n",
       "      <td>Yes</td>\n",
       "      <td>Yes</td>\n",
       "      <td>Yes</td>\n",
       "      <td>Latin</td>\n",
       "      <td>Yes</td>\n",
       "      <td>Yes</td>\n",
       "      <td>...</td>\n",
       "      <td>Sometimes</td>\n",
       "      <td>Very frequently</td>\n",
       "      <td>Never</td>\n",
       "      <td>Sometimes</td>\n",
       "      <td>3.0</td>\n",
       "      <td>0.0</td>\n",
       "      <td>1.0</td>\n",
       "      <td>0.0</td>\n",
       "      <td>NaN</td>\n",
       "      <td>I understand.</td>\n",
       "    </tr>\n",
       "    <tr>\n",
       "      <th>1</th>\n",
       "      <td>8/27/2022 19:57:31</td>\n",
       "      <td>63.0</td>\n",
       "      <td>Pandora</td>\n",
       "      <td>1.5</td>\n",
       "      <td>Yes</td>\n",
       "      <td>No</td>\n",
       "      <td>No</td>\n",
       "      <td>Rock</td>\n",
       "      <td>Yes</td>\n",
       "      <td>No</td>\n",
       "      <td>...</td>\n",
       "      <td>Sometimes</td>\n",
       "      <td>Rarely</td>\n",
       "      <td>Very frequently</td>\n",
       "      <td>Rarely</td>\n",
       "      <td>7.0</td>\n",
       "      <td>2.0</td>\n",
       "      <td>2.0</td>\n",
       "      <td>1.0</td>\n",
       "      <td>NaN</td>\n",
       "      <td>I understand.</td>\n",
       "    </tr>\n",
       "  </tbody>\n",
       "</table>\n",
       "<p>2 rows × 33 columns</p>\n",
       "</div>"
      ],
      "text/plain": [
       "            Timestamp   Age Primary streaming service  Hours per day  \\\n",
       "0  8/27/2022 19:29:02  18.0                   Spotify            3.0   \n",
       "1  8/27/2022 19:57:31  63.0                   Pandora            1.5   \n",
       "\n",
       "  While working Instrumentalist Composer Fav genre Exploratory  \\\n",
       "0           Yes             Yes      Yes     Latin         Yes   \n",
       "1           Yes              No       No      Rock         Yes   \n",
       "\n",
       "  Foreign languages  ...  Frequency [R&B]  Frequency [Rap] Frequency [Rock]  \\\n",
       "0               Yes  ...        Sometimes  Very frequently            Never   \n",
       "1                No  ...        Sometimes           Rarely  Very frequently   \n",
       "\n",
       "  Frequency [Video game music] Anxiety Depression Insomnia  OCD Music effects  \\\n",
       "0                    Sometimes     3.0        0.0      1.0  0.0           NaN   \n",
       "1                       Rarely     7.0        2.0      2.0  1.0           NaN   \n",
       "\n",
       "     Permissions  \n",
       "0  I understand.  \n",
       "1  I understand.  \n",
       "\n",
       "[2 rows x 33 columns]"
      ]
     },
     "execution_count": 4,
     "metadata": {},
     "output_type": "execute_result"
    }
   ],
   "source": [
    "# Create a dataframe from CSV obtained in kagglehub API for survey results \n",
    "survey = pd.read_csv(\"mxmh_survey_results.csv\")\n",
    "\n",
    "# Show first two lines\n",
    "survey.head(2)"
   ]
  },
  {
   "cell_type": "code",
   "execution_count": 5,
   "metadata": {},
   "outputs": [
    {
     "data": {
      "text/html": [
       "<div>\n",
       "<style scoped>\n",
       "    .dataframe tbody tr th:only-of-type {\n",
       "        vertical-align: middle;\n",
       "    }\n",
       "\n",
       "    .dataframe tbody tr th {\n",
       "        vertical-align: top;\n",
       "    }\n",
       "\n",
       "    .dataframe thead th {\n",
       "        text-align: right;\n",
       "    }\n",
       "</style>\n",
       "<table border=\"1\" class=\"dataframe\">\n",
       "  <thead>\n",
       "    <tr style=\"text-align: right;\">\n",
       "      <th></th>\n",
       "      <th>Age</th>\n",
       "      <th>Primarystreamingservice</th>\n",
       "      <th>Favgenre</th>\n",
       "      <th>BPM</th>\n",
       "      <th>Anxiety</th>\n",
       "      <th>Depression</th>\n",
       "      <th>Insomnia</th>\n",
       "      <th>OCD</th>\n",
       "      <th>Musiceffects</th>\n",
       "    </tr>\n",
       "  </thead>\n",
       "  <tbody>\n",
       "    <tr>\n",
       "      <th>0</th>\n",
       "      <td>18.0</td>\n",
       "      <td>spotify</td>\n",
       "      <td>latin</td>\n",
       "      <td>156.0</td>\n",
       "      <td>3.0</td>\n",
       "      <td>0.0</td>\n",
       "      <td>1.0</td>\n",
       "      <td>0.0</td>\n",
       "      <td>NaN</td>\n",
       "    </tr>\n",
       "    <tr>\n",
       "      <th>1</th>\n",
       "      <td>18.0</td>\n",
       "      <td>spotify</td>\n",
       "      <td>video game music</td>\n",
       "      <td>132.0</td>\n",
       "      <td>7.0</td>\n",
       "      <td>7.0</td>\n",
       "      <td>10.0</td>\n",
       "      <td>2.0</td>\n",
       "      <td>No effect</td>\n",
       "    </tr>\n",
       "  </tbody>\n",
       "</table>\n",
       "</div>"
      ],
      "text/plain": [
       "    Age Primarystreamingservice          Favgenre    BPM  Anxiety  Depression  \\\n",
       "0  18.0                 spotify             latin  156.0      3.0         0.0   \n",
       "1  18.0                 spotify  video game music  132.0      7.0         7.0   \n",
       "\n",
       "   Insomnia  OCD Musiceffects  \n",
       "0       1.0  0.0          NaN  \n",
       "1      10.0  2.0    No effect  "
      ]
     },
     "execution_count": 5,
     "metadata": {},
     "output_type": "execute_result"
    }
   ],
   "source": [
    "# reading in survey data manipulated in sql to have columns wanted\n",
    "survey_sql = pd.read_csv(\"mxmh_survey.csv\")\n",
    "\n",
    "# Show the first two lines\n",
    "survey_sql.head(2)"
   ]
  },
  {
   "cell_type": "code",
   "execution_count": 6,
   "metadata": {},
   "outputs": [
    {
     "data": {
      "text/plain": [
       "np.True_"
      ]
     },
     "execution_count": 6,
     "metadata": {},
     "output_type": "execute_result"
    }
   ],
   "source": [
    "# Check for isnull\n",
    "survey_sql.isnull().any().any()"
   ]
  },
  {
   "cell_type": "code",
   "execution_count": 7,
   "metadata": {},
   "outputs": [
    {
     "data": {
      "text/plain": [
       "Age                         1\n",
       "Primarystreamingservice     0\n",
       "Favgenre                    0\n",
       "BPM                        56\n",
       "Anxiety                     0\n",
       "Depression                  0\n",
       "Insomnia                    0\n",
       "OCD                         0\n",
       "Musiceffects                3\n",
       "dtype: int64"
      ]
     },
     "execution_count": 7,
     "metadata": {},
     "output_type": "execute_result"
    }
   ],
   "source": [
    "# Checking where isnull values are located\n",
    "survey_sql.isnull().sum()"
   ]
  },
  {
   "cell_type": "code",
   "execution_count": 8,
   "metadata": {},
   "outputs": [],
   "source": [
    "# removing isnull items and reseting index as well and renaming with _cleaned\n",
    "survey_sql_cleaned = survey_sql.dropna().reset_index(drop=True)"
   ]
  },
  {
   "cell_type": "code",
   "execution_count": 9,
   "metadata": {},
   "outputs": [
    {
     "data": {
      "text/html": [
       "<div>\n",
       "<style scoped>\n",
       "    .dataframe tbody tr th:only-of-type {\n",
       "        vertical-align: middle;\n",
       "    }\n",
       "\n",
       "    .dataframe tbody tr th {\n",
       "        vertical-align: top;\n",
       "    }\n",
       "\n",
       "    .dataframe thead th {\n",
       "        text-align: right;\n",
       "    }\n",
       "</style>\n",
       "<table border=\"1\" class=\"dataframe\">\n",
       "  <thead>\n",
       "    <tr style=\"text-align: right;\">\n",
       "      <th></th>\n",
       "      <th>Age</th>\n",
       "      <th>Primarystreamingservice</th>\n",
       "      <th>Favgenre</th>\n",
       "      <th>BPM</th>\n",
       "      <th>Anxiety</th>\n",
       "      <th>Depression</th>\n",
       "      <th>Insomnia</th>\n",
       "      <th>OCD</th>\n",
       "      <th>Musiceffects</th>\n",
       "    </tr>\n",
       "  </thead>\n",
       "  <tbody>\n",
       "    <tr>\n",
       "      <th>0</th>\n",
       "      <td>18.0</td>\n",
       "      <td>spotify</td>\n",
       "      <td>video game music</td>\n",
       "      <td>132.0</td>\n",
       "      <td>7.0</td>\n",
       "      <td>7.0</td>\n",
       "      <td>10.0</td>\n",
       "      <td>2.0</td>\n",
       "      <td>No effect</td>\n",
       "    </tr>\n",
       "    <tr>\n",
       "      <th>1</th>\n",
       "      <td>18.0</td>\n",
       "      <td>spotify</td>\n",
       "      <td>r&amp;b</td>\n",
       "      <td>107.0</td>\n",
       "      <td>7.0</td>\n",
       "      <td>2.0</td>\n",
       "      <td>5.0</td>\n",
       "      <td>9.0</td>\n",
       "      <td>Improve</td>\n",
       "    </tr>\n",
       "  </tbody>\n",
       "</table>\n",
       "</div>"
      ],
      "text/plain": [
       "    Age Primarystreamingservice          Favgenre    BPM  Anxiety  Depression  \\\n",
       "0  18.0                 spotify  video game music  132.0      7.0         7.0   \n",
       "1  18.0                 spotify               r&b  107.0      7.0         2.0   \n",
       "\n",
       "   Insomnia  OCD Musiceffects  \n",
       "0      10.0  2.0    No effect  \n",
       "1       5.0  9.0      Improve  "
      ]
     },
     "execution_count": 9,
     "metadata": {},
     "output_type": "execute_result"
    }
   ],
   "source": [
    "survey_sql_cleaned.head(2)"
   ]
  },
  {
   "cell_type": "code",
   "execution_count": 10,
   "metadata": {},
   "outputs": [
    {
     "data": {
      "text/plain": [
       "(400, 9)"
      ]
     },
     "execution_count": 10,
     "metadata": {},
     "output_type": "execute_result"
    }
   ],
   "source": [
    "survey_sql_cleaned.shape"
   ]
  },
  {
   "cell_type": "code",
   "execution_count": 11,
   "metadata": {},
   "outputs": [
    {
     "data": {
      "text/html": [
       "<div>\n",
       "<style scoped>\n",
       "    .dataframe tbody tr th:only-of-type {\n",
       "        vertical-align: middle;\n",
       "    }\n",
       "\n",
       "    .dataframe tbody tr th {\n",
       "        vertical-align: top;\n",
       "    }\n",
       "\n",
       "    .dataframe thead th {\n",
       "        text-align: right;\n",
       "    }\n",
       "</style>\n",
       "<table border=\"1\" class=\"dataframe\">\n",
       "  <thead>\n",
       "    <tr style=\"text-align: right;\">\n",
       "      <th></th>\n",
       "      <th>Primarystreamingservice</th>\n",
       "      <th>Favgenre</th>\n",
       "      <th>improve_count</th>\n",
       "      <th>worsen_count</th>\n",
       "      <th>no_effect_count</th>\n",
       "      <th>total_count</th>\n",
       "    </tr>\n",
       "  </thead>\n",
       "  <tbody>\n",
       "    <tr>\n",
       "      <th>0</th>\n",
       "      <td>spotify</td>\n",
       "      <td>classical</td>\n",
       "      <td>17</td>\n",
       "      <td>1</td>\n",
       "      <td>7</td>\n",
       "      <td>25</td>\n",
       "    </tr>\n",
       "    <tr>\n",
       "      <th>1</th>\n",
       "      <td>spotify</td>\n",
       "      <td>country</td>\n",
       "      <td>12</td>\n",
       "      <td>0</td>\n",
       "      <td>3</td>\n",
       "      <td>15</td>\n",
       "    </tr>\n",
       "  </tbody>\n",
       "</table>\n",
       "</div>"
      ],
      "text/plain": [
       "  Primarystreamingservice   Favgenre  improve_count  worsen_count  \\\n",
       "0                 spotify  classical             17             1   \n",
       "1                 spotify    country             12             0   \n",
       "\n",
       "   no_effect_count  total_count  \n",
       "0                7           25  \n",
       "1                3           15  "
      ]
     },
     "execution_count": 11,
     "metadata": {},
     "output_type": "execute_result"
    }
   ],
   "source": [
    "# reading in survey data manipulated in sql to have columns wanted\n",
    "survey_db_counts = pd.read_csv('survey_db_update.csv')\n",
    "\n",
    "# Show the first two lines\n",
    "survey_db_counts.head(2)\n"
   ]
  },
  {
   "cell_type": "code",
   "execution_count": 12,
   "metadata": {},
   "outputs": [
    {
     "data": {
      "text/plain": [
       "np.False_"
      ]
     },
     "execution_count": 12,
     "metadata": {},
     "output_type": "execute_result"
    }
   ],
   "source": [
    "# checking for null\n",
    "\n",
    "survey_db_counts.isnull().any().any() "
   ]
  },
  {
   "cell_type": "code",
   "execution_count": 13,
   "metadata": {},
   "outputs": [],
   "source": [
    "def calculate_percentage(survey_db_counts):\n",
    "    # Calculate percentages\n",
    "    survey_db_counts['improve_percentage'] = ((survey_db_counts['improve_count'] / survey_db_counts['total_count']) * 100).round(2)\n",
    "    survey_db_counts['worsen_percentage'] = ((survey_db_counts['worsen_count'] / survey_db_counts['total_count']) * 100).round(2)\n",
    "    survey_db_counts['no_effect_percentage'] = ((survey_db_counts['no_effect_count'] / survey_db_counts['total_count']) * 100).round(2)\n",
    "\n",
    "    # Return the DataFrame with the new columns\n",
    "    return survey_db_counts[['Favgenre', 'total_count', 'improve_percentage', 'worsen_percentage', 'no_effect_percentage']]\n",
    "\n"
   ]
  },
  {
   "cell_type": "code",
   "execution_count": 14,
   "metadata": {},
   "outputs": [
    {
     "data": {
      "text/html": [
       "<div>\n",
       "<style scoped>\n",
       "    .dataframe tbody tr th:only-of-type {\n",
       "        vertical-align: middle;\n",
       "    }\n",
       "\n",
       "    .dataframe tbody tr th {\n",
       "        vertical-align: top;\n",
       "    }\n",
       "\n",
       "    .dataframe thead th {\n",
       "        text-align: right;\n",
       "    }\n",
       "</style>\n",
       "<table border=\"1\" class=\"dataframe\">\n",
       "  <thead>\n",
       "    <tr style=\"text-align: right;\">\n",
       "      <th></th>\n",
       "      <th>Favgenre</th>\n",
       "      <th>total_count</th>\n",
       "      <th>improve_percentage</th>\n",
       "      <th>worsen_percentage</th>\n",
       "      <th>no_effect_percentage</th>\n",
       "    </tr>\n",
       "  </thead>\n",
       "  <tbody>\n",
       "    <tr>\n",
       "      <th>0</th>\n",
       "      <td>classical</td>\n",
       "      <td>25</td>\n",
       "      <td>68.00</td>\n",
       "      <td>4.00</td>\n",
       "      <td>28.00</td>\n",
       "    </tr>\n",
       "    <tr>\n",
       "      <th>1</th>\n",
       "      <td>country</td>\n",
       "      <td>15</td>\n",
       "      <td>80.00</td>\n",
       "      <td>0.00</td>\n",
       "      <td>20.00</td>\n",
       "    </tr>\n",
       "    <tr>\n",
       "      <th>2</th>\n",
       "      <td>edm</td>\n",
       "      <td>21</td>\n",
       "      <td>80.95</td>\n",
       "      <td>0.00</td>\n",
       "      <td>19.05</td>\n",
       "    </tr>\n",
       "    <tr>\n",
       "      <th>3</th>\n",
       "      <td>folk</td>\n",
       "      <td>20</td>\n",
       "      <td>75.00</td>\n",
       "      <td>0.00</td>\n",
       "      <td>25.00</td>\n",
       "    </tr>\n",
       "    <tr>\n",
       "      <th>4</th>\n",
       "      <td>gospel</td>\n",
       "      <td>2</td>\n",
       "      <td>100.00</td>\n",
       "      <td>0.00</td>\n",
       "      <td>0.00</td>\n",
       "    </tr>\n",
       "    <tr>\n",
       "      <th>5</th>\n",
       "      <td>hip hop</td>\n",
       "      <td>28</td>\n",
       "      <td>92.86</td>\n",
       "      <td>0.00</td>\n",
       "      <td>7.14</td>\n",
       "    </tr>\n",
       "    <tr>\n",
       "      <th>6</th>\n",
       "      <td>jazz</td>\n",
       "      <td>15</td>\n",
       "      <td>86.67</td>\n",
       "      <td>0.00</td>\n",
       "      <td>13.33</td>\n",
       "    </tr>\n",
       "    <tr>\n",
       "      <th>7</th>\n",
       "      <td>k pop</td>\n",
       "      <td>22</td>\n",
       "      <td>72.73</td>\n",
       "      <td>0.00</td>\n",
       "      <td>18.18</td>\n",
       "    </tr>\n",
       "    <tr>\n",
       "      <th>8</th>\n",
       "      <td>latin</td>\n",
       "      <td>2</td>\n",
       "      <td>0.00</td>\n",
       "      <td>0.00</td>\n",
       "      <td>50.00</td>\n",
       "    </tr>\n",
       "    <tr>\n",
       "      <th>9</th>\n",
       "      <td>lofi</td>\n",
       "      <td>8</td>\n",
       "      <td>100.00</td>\n",
       "      <td>0.00</td>\n",
       "      <td>0.00</td>\n",
       "    </tr>\n",
       "    <tr>\n",
       "      <th>10</th>\n",
       "      <td>metal</td>\n",
       "      <td>61</td>\n",
       "      <td>80.33</td>\n",
       "      <td>0.00</td>\n",
       "      <td>19.67</td>\n",
       "    </tr>\n",
       "    <tr>\n",
       "      <th>11</th>\n",
       "      <td>pop</td>\n",
       "      <td>68</td>\n",
       "      <td>76.47</td>\n",
       "      <td>2.94</td>\n",
       "      <td>20.59</td>\n",
       "    </tr>\n",
       "    <tr>\n",
       "      <th>12</th>\n",
       "      <td>r&amp;b</td>\n",
       "      <td>23</td>\n",
       "      <td>73.91</td>\n",
       "      <td>0.00</td>\n",
       "      <td>26.09</td>\n",
       "    </tr>\n",
       "    <tr>\n",
       "      <th>13</th>\n",
       "      <td>rap</td>\n",
       "      <td>12</td>\n",
       "      <td>75.00</td>\n",
       "      <td>8.33</td>\n",
       "      <td>16.67</td>\n",
       "    </tr>\n",
       "    <tr>\n",
       "      <th>14</th>\n",
       "      <td>rock</td>\n",
       "      <td>118</td>\n",
       "      <td>69.49</td>\n",
       "      <td>5.93</td>\n",
       "      <td>24.58</td>\n",
       "    </tr>\n",
       "    <tr>\n",
       "      <th>15</th>\n",
       "      <td>video game music</td>\n",
       "      <td>18</td>\n",
       "      <td>55.56</td>\n",
       "      <td>11.11</td>\n",
       "      <td>33.33</td>\n",
       "    </tr>\n",
       "  </tbody>\n",
       "</table>\n",
       "</div>"
      ],
      "text/plain": [
       "            Favgenre  total_count  improve_percentage  worsen_percentage  \\\n",
       "0          classical           25               68.00               4.00   \n",
       "1            country           15               80.00               0.00   \n",
       "2                edm           21               80.95               0.00   \n",
       "3               folk           20               75.00               0.00   \n",
       "4             gospel            2              100.00               0.00   \n",
       "5            hip hop           28               92.86               0.00   \n",
       "6               jazz           15               86.67               0.00   \n",
       "7              k pop           22               72.73               0.00   \n",
       "8              latin            2                0.00               0.00   \n",
       "9               lofi            8              100.00               0.00   \n",
       "10             metal           61               80.33               0.00   \n",
       "11               pop           68               76.47               2.94   \n",
       "12               r&b           23               73.91               0.00   \n",
       "13               rap           12               75.00               8.33   \n",
       "14              rock          118               69.49               5.93   \n",
       "15  video game music           18               55.56              11.11   \n",
       "\n",
       "    no_effect_percentage  \n",
       "0                  28.00  \n",
       "1                  20.00  \n",
       "2                  19.05  \n",
       "3                  25.00  \n",
       "4                   0.00  \n",
       "5                   7.14  \n",
       "6                  13.33  \n",
       "7                  18.18  \n",
       "8                  50.00  \n",
       "9                   0.00  \n",
       "10                 19.67  \n",
       "11                 20.59  \n",
       "12                 26.09  \n",
       "13                 16.67  \n",
       "14                 24.58  \n",
       "15                 33.33  "
      ]
     },
     "execution_count": 14,
     "metadata": {},
     "output_type": "execute_result"
    }
   ],
   "source": [
    "# call the function\n",
    "\n",
    "percentages = calculate_percentage(survey_db_counts)\n",
    "\n",
    "percentages"
   ]
  },
  {
   "cell_type": "code",
   "execution_count": 15,
   "metadata": {},
   "outputs": [
    {
     "name": "stdout",
     "output_type": "stream",
     "text": [
      "               Genre  Improve Percentage   Lower CI    Upper CI\n",
      "0          classical           68.000000  48.410269   82.794810\n",
      "1            country           80.000000  54.814551   92.952451\n",
      "2                edm           80.952381  59.999435   92.332435\n",
      "3               folk           75.000000  53.129912   88.813830\n",
      "4             gospel          100.000000  34.238023  100.000000\n",
      "5            hip hop           92.857143  77.354637   98.018794\n",
      "6               jazz           86.666667  62.118017   96.263874\n",
      "7              k pop           72.727273  51.848266   86.849240\n",
      "8              latin            0.000000   0.000000   65.761977\n",
      "9               lofi          100.000000  67.559244  100.000000\n",
      "10             metal           80.327869  68.690059   88.372198\n",
      "11               pop           76.470588  65.144832   84.965509\n",
      "12               r&b           73.913043  53.529995   87.451384\n",
      "13               rap           75.000000  46.769467   91.105833\n",
      "14              rock           69.491525  60.678193   77.075787\n",
      "15  video game music           55.555556  33.716416   75.440482\n"
     ]
    }
   ],
   "source": [
    "\n",
    "\n",
    "# Assume 'df' is your DataFrame and 'improve_count', 'total_count', 'playlist_genre' are columns\n",
    "# Calculate the improve percentage for each genre\n",
    "survey_db_counts['improve_percentage'] = (survey_db_counts['improve_count'] / survey_db_counts['total_count']) * 100\n",
    "\n",
    "# Calculate the confidence intervals for each genre\n",
    "ci_results = []\n",
    "for genre in survey_db_counts['Favgenre'].unique():\n",
    "    genre_data = survey_db_counts[survey_db_counts['Favgenre'] == genre]\n",
    "    n = genre_data['total_count'].sum()  # total number of votes for this genre\n",
    "    successes = genre_data['improve_count'].sum()  # total number of improvements for this genre\n",
    "    \n",
    "    # Calculate confidence intervals using the Wilson score interval\n",
    "    lower, upper = proportion_confint(successes, n, alpha=0.05, method='wilson')\n",
    "    \n",
    "    # Store the results (mean, lower CI, upper CI)\n",
    "    mean_percentage = (successes / n) * 100\n",
    "    ci_results.append((genre, mean_percentage, lower * 100, upper * 100))\n",
    "\n",
    "# Convert the results to a DataFrame for easier inspection\n",
    "ci_df = pd.DataFrame(ci_results, columns=['Genre', 'Improve Percentage', 'Lower CI', 'Upper CI'])\n",
    "print(ci_df)\n",
    "\n",
    "\n"
   ]
  },
  {
   "cell_type": "code",
   "execution_count": 16,
   "metadata": {},
   "outputs": [
    {
     "name": "stdout",
     "output_type": "stream",
     "text": [
      "               Genre  Improve Percentage   Lower CI    Upper CI\n",
      "0          classical           68.000000  48.410269   82.794810\n",
      "1            country           80.000000  54.814551   92.952451\n",
      "2                edm           80.952381  59.999435   92.332435\n",
      "3               folk           75.000000  53.129912   88.813830\n",
      "4             gospel          100.000000  34.238023  100.000000\n",
      "5            hip hop           92.857143  77.354637   98.018794\n",
      "6               jazz           86.666667  62.118017   96.263874\n",
      "7              k pop           72.727273  51.848266   86.849240\n",
      "8              latin            0.000000   0.000000   65.761977\n",
      "9               lofi          100.000000  67.559244  100.000000\n",
      "10             metal           80.327869  68.690059   88.372198\n",
      "11               pop           76.470588  65.144832   84.965509\n",
      "12               r&b           73.913043  53.529995   87.451384\n",
      "13               rap           75.000000  46.769467   91.105833\n",
      "14              rock           69.491525  60.678193   77.075787\n",
      "15  video game music           55.555556  33.716416   75.440482\n"
     ]
    }
   ],
   "source": [
    "print(ci_df)"
   ]
  },
  {
   "cell_type": "markdown",
   "metadata": {},
   "source": [
    "Based on the confidence intervals lower and upper there is no way to state which genre has the best type of music that improves mental health. it is likely that whatever music you like to listen to improves your mood. As a result I will select the top 2 songs for each genre according to spotify"
   ]
  },
  {
   "cell_type": "code",
   "execution_count": 17,
   "metadata": {},
   "outputs": [
    {
     "name": "stderr",
     "output_type": "stream",
     "text": [
      "/Library/Frameworks/Python.framework/Versions/3.13/lib/python3.13/site-packages/statsmodels/stats/weightstats.py:792: RuntimeWarning: invalid value encountered in scalar divide\n",
      "  zstat = value / std\n"
     ]
    },
    {
     "data": {
      "text/html": [
       "<div>\n",
       "<style scoped>\n",
       "    .dataframe tbody tr th:only-of-type {\n",
       "        vertical-align: middle;\n",
       "    }\n",
       "\n",
       "    .dataframe tbody tr th {\n",
       "        vertical-align: top;\n",
       "    }\n",
       "\n",
       "    .dataframe thead th {\n",
       "        text-align: right;\n",
       "    }\n",
       "</style>\n",
       "<table border=\"1\" class=\"dataframe\">\n",
       "  <thead>\n",
       "    <tr style=\"text-align: right;\">\n",
       "      <th></th>\n",
       "      <th>genre1</th>\n",
       "      <th>genre2</th>\n",
       "      <th>z_stat</th>\n",
       "      <th>p_value</th>\n",
       "    </tr>\n",
       "  </thead>\n",
       "  <tbody>\n",
       "    <tr>\n",
       "      <th>0</th>\n",
       "      <td>classical</td>\n",
       "      <td>country</td>\n",
       "      <td>-0.822871</td>\n",
       "      <td>0.410582</td>\n",
       "    </tr>\n",
       "    <tr>\n",
       "      <th>1</th>\n",
       "      <td>classical</td>\n",
       "      <td>edm</td>\n",
       "      <td>-0.996502</td>\n",
       "      <td>0.319006</td>\n",
       "    </tr>\n",
       "    <tr>\n",
       "      <th>2</th>\n",
       "      <td>classical</td>\n",
       "      <td>folk</td>\n",
       "      <td>-0.514805</td>\n",
       "      <td>0.606689</td>\n",
       "    </tr>\n",
       "    <tr>\n",
       "      <th>3</th>\n",
       "      <td>classical</td>\n",
       "      <td>gospel</td>\n",
       "      <td>-0.953663</td>\n",
       "      <td>0.340254</td>\n",
       "    </tr>\n",
       "    <tr>\n",
       "      <th>4</th>\n",
       "      <td>classical</td>\n",
       "      <td>hip hop</td>\n",
       "      <td>-2.308894</td>\n",
       "      <td>0.020949</td>\n",
       "    </tr>\n",
       "    <tr>\n",
       "      <th>...</th>\n",
       "      <td>...</td>\n",
       "      <td>...</td>\n",
       "      <td>...</td>\n",
       "      <td>...</td>\n",
       "    </tr>\n",
       "    <tr>\n",
       "      <th>115</th>\n",
       "      <td>r&amp;b</td>\n",
       "      <td>rock</td>\n",
       "      <td>0.424174</td>\n",
       "      <td>0.671439</td>\n",
       "    </tr>\n",
       "    <tr>\n",
       "      <th>116</th>\n",
       "      <td>r&amp;b</td>\n",
       "      <td>video game music</td>\n",
       "      <td>1.230154</td>\n",
       "      <td>0.218639</td>\n",
       "    </tr>\n",
       "    <tr>\n",
       "      <th>117</th>\n",
       "      <td>rap</td>\n",
       "      <td>rock</td>\n",
       "      <td>0.396718</td>\n",
       "      <td>0.691576</td>\n",
       "    </tr>\n",
       "    <tr>\n",
       "      <th>118</th>\n",
       "      <td>rap</td>\n",
       "      <td>video game music</td>\n",
       "      <td>1.082704</td>\n",
       "      <td>0.278940</td>\n",
       "    </tr>\n",
       "    <tr>\n",
       "      <th>119</th>\n",
       "      <td>rock</td>\n",
       "      <td>video game music</td>\n",
       "      <td>1.177236</td>\n",
       "      <td>0.239101</td>\n",
       "    </tr>\n",
       "  </tbody>\n",
       "</table>\n",
       "<p>120 rows × 4 columns</p>\n",
       "</div>"
      ],
      "text/plain": [
       "        genre1            genre2    z_stat   p_value\n",
       "0    classical           country -0.822871  0.410582\n",
       "1    classical               edm -0.996502  0.319006\n",
       "2    classical              folk -0.514805  0.606689\n",
       "3    classical            gospel -0.953663  0.340254\n",
       "4    classical           hip hop -2.308894  0.020949\n",
       "..         ...               ...       ...       ...\n",
       "115        r&b              rock  0.424174  0.671439\n",
       "116        r&b  video game music  1.230154  0.218639\n",
       "117        rap              rock  0.396718  0.691576\n",
       "118        rap  video game music  1.082704  0.278940\n",
       "119       rock  video game music  1.177236  0.239101\n",
       "\n",
       "[120 rows x 4 columns]"
      ]
     },
     "execution_count": 17,
     "metadata": {},
     "output_type": "execute_result"
    }
   ],
   "source": [
    "\n",
    "\n",
    "def p(survey_db_counts):\n",
    "    # Calculate the percentages for improve, worsen, and no effect\n",
    "    survey_db_counts['improve_percentage'] = (survey_db_counts['improve_count'] / survey_db_counts['total_count']) * 100\n",
    "    survey_db_counts['worsen_percentage'] = (survey_db_counts['worsen_count'] / survey_db_counts['total_count']) * 100\n",
    "    survey_db_counts['no_effect_percentage'] = (survey_db_counts['no_effect_count'] / survey_db_counts['total_count']) * 100\n",
    "\n",
    "    # Create a list to store results for all pairwise z-tests\n",
    "    pairwise_results = []\n",
    "\n",
    "    # Generate pairwise combinations of genres\n",
    "    genre_combinations = combinations(survey_db_counts['Favgenre'], 2)\n",
    "    \n",
    "    for genre1, genre2 in genre_combinations:\n",
    "        # Extract the data for each genre pair\n",
    "        group1 = survey_db_counts[survey_db_counts['Favgenre'] == genre1]\n",
    "        group2 = survey_db_counts[survey_db_counts['Favgenre'] == genre2]\n",
    "\n",
    "        # Perform z-test for proportions (two-sample test)\n",
    "        counts_improve = [group1['improve_count'].sum(), group2['improve_count'].sum()]\n",
    "        totals_improve = [group1['total_count'].sum(), group2['total_count'].sum()]\n",
    "\n",
    "        z_stat, p_value = proportions_ztest(counts_improve, totals_improve)\n",
    "\n",
    "        # Append the results for this pairwise comparison\n",
    "        pairwise_results.append({\n",
    "            'genre1': genre1,\n",
    "            'genre2': genre2,\n",
    "            'z_stat': z_stat,\n",
    "            'p_value': p_value\n",
    "        })\n",
    "\n",
    "    # Return pairwise comparison results along with the original DataFrame\n",
    "    pairwise_survey = pd.DataFrame(pairwise_results)\n",
    "\n",
    "    return survey_db_counts[['Favgenre', 'total_count', 'improve_percentage']], pairwise_survey\n",
    "\n",
    "\n",
    " #  df = pd.DataFrame(data)\n",
    "\n",
    "# Call the function and capture the result\n",
    "result, pairwise_results = p(survey_db_counts)\n",
    "\n",
    "# Display the result DataFrame and pairwise comparison results\n",
    "result\n",
    "pairwise_results\n"
   ]
  },
  {
   "cell_type": "code",
   "execution_count": 18,
   "metadata": {},
   "outputs": [
    {
     "name": "stderr",
     "output_type": "stream",
     "text": [
      "/var/folders/sw/mf1x4fnn1jg2jq5n72k6mkm80000gn/T/ipykernel_54157/4010961338.py:3: FutureWarning: \n",
      "\n",
      "Passing `palette` without assigning `hue` is deprecated and will be removed in v0.14.0. Assign the `x` variable to `hue` and set `legend=False` for the same effect.\n",
      "\n",
      "  sns.barplot(data=result, x='Favgenre', y='improve_percentage', palette='viridis')\n"
     ]
    },
    {
     "data": {
      "image/png": "[encoded data removed]",
      "text/plain": [
       "<Figure size 1000x600 with 1 Axes>"
      ]
     },
     "metadata": {},
     "output_type": "display_data"
    }
   ],
   "source": [
    "\n",
    "# Bar plot for improve percentages by genre\n",
    "plt.figure(figsize=(10, 6))\n",
    "sns.barplot(data=result, x='Favgenre', y='improve_percentage', palette='viridis')\n",
    "plt.title('Improve Percentages by Genre')\n",
    "plt.xlabel('Genre')\n",
    "plt.ylabel('Improve Percentage (%)')\n",
    "plt.xticks(rotation=45, ha='right')\n",
    "plt.tight_layout()\n",
    "plt.show()\n"
   ]
  },
  {
   "cell_type": "code",
   "execution_count": 19,
   "metadata": {},
   "outputs": [
    {
     "name": "stdout",
     "output_type": "stream",
     "text": [
      "Average Improve Percentage: 74.19%\n"
     ]
    }
   ],
   "source": [
    "avg_improve_percentage = result['improve_percentage'].mean()\n",
    "print(f\"Average Improve Percentage: {avg_improve_percentage:.2f}%\")\n",
    "\n"
   ]
  },
  {
   "cell_type": "code",
   "execution_count": 20,
   "metadata": {},
   "outputs": [
    {
     "name": "stdout",
     "output_type": "stream",
     "text": [
      "Significant Pairwise Comparisons: \n",
      "        genre1            genre2    z_stat   p_value\n",
      "4    classical           hip hop -2.308894  0.020949\n",
      "21     country             latin  2.332381  0.019681\n",
      "34         edm             latin  2.491255  0.012729\n",
      "46        folk             latin  2.171241  0.029913\n",
      "57      gospel             latin  2.000000  0.045500\n",
      "67     hip hop             latin  3.732100  0.000190\n",
      "73     hip hop              rock  2.533203  0.011303\n",
      "74     hip hop  video game music  2.993438  0.002759\n",
      "76        jazz             latin  2.714160  0.006644\n",
      "84       k pop             latin  2.088932  0.036714\n",
      "92       latin              lofi -3.162278  0.001565\n",
      "93       latin             metal -2.688774  0.007171\n",
      "94       latin               pop -2.438793  0.014736\n",
      "95       latin               r&b -2.149317  0.031609\n",
      "96       latin               rap -2.049390  0.040424\n",
      "97       latin              rock -2.094979  0.036173\n",
      "104       lofi  video game music  2.266231  0.023437\n",
      "109      metal  video game music  2.123930  0.033676\n"
     ]
    }
   ],
   "source": [
    "significant_comparisons = pairwise_results[pairwise_results['p_value'] < 0.05]\n",
    "print(f\"Significant Pairwise Comparisons: \\n{significant_comparisons}\")\n"
   ]
  },
  {
   "cell_type": "code",
   "execution_count": 21,
   "metadata": {},
   "outputs": [
    {
     "data": {
      "text/html": [
       "<div>\n",
       "<style scoped>\n",
       "    .dataframe tbody tr th:only-of-type {\n",
       "        vertical-align: middle;\n",
       "    }\n",
       "\n",
       "    .dataframe tbody tr th {\n",
       "        vertical-align: top;\n",
       "    }\n",
       "\n",
       "    .dataframe thead th {\n",
       "        text-align: right;\n",
       "    }\n",
       "</style>\n",
       "<table border=\"1\" class=\"dataframe\">\n",
       "  <thead>\n",
       "    <tr style=\"text-align: right;\">\n",
       "      <th></th>\n",
       "      <th>energy</th>\n",
       "      <th>tempo</th>\n",
       "      <th>danceability</th>\n",
       "      <th>playlist_genre</th>\n",
       "      <th>loudness</th>\n",
       "      <th>liveness</th>\n",
       "      <th>valence</th>\n",
       "      <th>track_artist</th>\n",
       "      <th>time_signature</th>\n",
       "      <th>speechiness</th>\n",
       "      <th>...</th>\n",
       "      <th>instrumentalness</th>\n",
       "      <th>track_album_id</th>\n",
       "      <th>mode</th>\n",
       "      <th>key</th>\n",
       "      <th>duration_ms</th>\n",
       "      <th>acousticness</th>\n",
       "      <th>id</th>\n",
       "      <th>playlist_subgenre</th>\n",
       "      <th>type</th>\n",
       "      <th>playlist_id</th>\n",
       "    </tr>\n",
       "  </thead>\n",
       "  <tbody>\n",
       "    <tr>\n",
       "      <th>0</th>\n",
       "      <td>0.592</td>\n",
       "      <td>157.969</td>\n",
       "      <td>0.521</td>\n",
       "      <td>pop</td>\n",
       "      <td>-7.777</td>\n",
       "      <td>0.122</td>\n",
       "      <td>0.535</td>\n",
       "      <td>Lady Gaga, Bruno Mars</td>\n",
       "      <td>3</td>\n",
       "      <td>0.0304</td>\n",
       "      <td>...</td>\n",
       "      <td>0.0000</td>\n",
       "      <td>10FLjwfpbxLmW8c25Xyc2N</td>\n",
       "      <td>0</td>\n",
       "      <td>6</td>\n",
       "      <td>251668</td>\n",
       "      <td>0.308</td>\n",
       "      <td>2plbrEY59IikOBgBGLjaoe</td>\n",
       "      <td>mainstream</td>\n",
       "      <td>audio_features</td>\n",
       "      <td>37i9dQZF1DXcBWIGoYBM5M</td>\n",
       "    </tr>\n",
       "    <tr>\n",
       "      <th>1</th>\n",
       "      <td>0.507</td>\n",
       "      <td>104.978</td>\n",
       "      <td>0.747</td>\n",
       "      <td>pop</td>\n",
       "      <td>-10.171</td>\n",
       "      <td>0.117</td>\n",
       "      <td>0.438</td>\n",
       "      <td>Billie Eilish</td>\n",
       "      <td>4</td>\n",
       "      <td>0.0358</td>\n",
       "      <td>...</td>\n",
       "      <td>0.0608</td>\n",
       "      <td>7aJuG4TFXa2hmE4z1yxc3n</td>\n",
       "      <td>1</td>\n",
       "      <td>2</td>\n",
       "      <td>210373</td>\n",
       "      <td>0.200</td>\n",
       "      <td>6dOtVTDdiauQNBQEDOtlAB</td>\n",
       "      <td>mainstream</td>\n",
       "      <td>audio_features</td>\n",
       "      <td>37i9dQZF1DXcBWIGoYBM5M</td>\n",
       "    </tr>\n",
       "  </tbody>\n",
       "</table>\n",
       "<p>2 rows × 29 columns</p>\n",
       "</div>"
      ],
      "text/plain": [
       "   energy    tempo  danceability playlist_genre  loudness  liveness  valence  \\\n",
       "0   0.592  157.969         0.521            pop    -7.777     0.122    0.535   \n",
       "1   0.507  104.978         0.747            pop   -10.171     0.117    0.438   \n",
       "\n",
       "            track_artist  time_signature  speechiness  ...  instrumentalness  \\\n",
       "0  Lady Gaga, Bruno Mars               3       0.0304  ...            0.0000   \n",
       "1          Billie Eilish               4       0.0358  ...            0.0608   \n",
       "\n",
       "           track_album_id mode key duration_ms acousticness  \\\n",
       "0  10FLjwfpbxLmW8c25Xyc2N    0   6      251668        0.308   \n",
       "1  7aJuG4TFXa2hmE4z1yxc3n    1   2      210373        0.200   \n",
       "\n",
       "                       id playlist_subgenre            type  \\\n",
       "0  2plbrEY59IikOBgBGLjaoe        mainstream  audio_features   \n",
       "1  6dOtVTDdiauQNBQEDOtlAB        mainstream  audio_features   \n",
       "\n",
       "              playlist_id  \n",
       "0  37i9dQZF1DXcBWIGoYBM5M  \n",
       "1  37i9dQZF1DXcBWIGoYBM5M  \n",
       "\n",
       "[2 rows x 29 columns]"
      ]
     },
     "execution_count": 21,
     "metadata": {},
     "output_type": "execute_result"
    }
   ],
   "source": [
    "# Create a dataframe for high popularity spotify\n",
    "high_spotify = pd.read_csv(\"high_popularity_spotify_data.csv\")\n",
    "\n",
    "# Show first two lines\n",
    "high_spotify.head(2)"
   ]
  },
  {
   "cell_type": "code",
   "execution_count": 22,
   "metadata": {},
   "outputs": [
    {
     "data": {
      "text/html": [
       "<div>\n",
       "<style scoped>\n",
       "    .dataframe tbody tr th:only-of-type {\n",
       "        vertical-align: middle;\n",
       "    }\n",
       "\n",
       "    .dataframe tbody tr th {\n",
       "        vertical-align: top;\n",
       "    }\n",
       "\n",
       "    .dataframe thead th {\n",
       "        text-align: right;\n",
       "    }\n",
       "</style>\n",
       "<table border=\"1\" class=\"dataframe\">\n",
       "  <thead>\n",
       "    <tr style=\"text-align: right;\">\n",
       "      <th></th>\n",
       "      <th>time_signature</th>\n",
       "      <th>track_popularity</th>\n",
       "      <th>speechiness</th>\n",
       "      <th>danceability</th>\n",
       "      <th>playlist_name</th>\n",
       "      <th>track_artist</th>\n",
       "      <th>duration_ms</th>\n",
       "      <th>energy</th>\n",
       "      <th>playlist_genre</th>\n",
       "      <th>playlist_subgenre</th>\n",
       "      <th>...</th>\n",
       "      <th>track_album_id</th>\n",
       "      <th>playlist_id</th>\n",
       "      <th>track_id</th>\n",
       "      <th>valence</th>\n",
       "      <th>key</th>\n",
       "      <th>tempo</th>\n",
       "      <th>loudness</th>\n",
       "      <th>acousticness</th>\n",
       "      <th>liveness</th>\n",
       "      <th>track_album_name</th>\n",
       "    </tr>\n",
       "  </thead>\n",
       "  <tbody>\n",
       "    <tr>\n",
       "      <th>0</th>\n",
       "      <td>4.0</td>\n",
       "      <td>23</td>\n",
       "      <td>0.0393</td>\n",
       "      <td>0.636</td>\n",
       "      <td>Rock Classics</td>\n",
       "      <td>Creedence Clearwater Revival</td>\n",
       "      <td>138053.0</td>\n",
       "      <td>0.746</td>\n",
       "      <td>rock</td>\n",
       "      <td>classic</td>\n",
       "      <td>...</td>\n",
       "      <td>4A8gFwqd9jTtnsNwUu3OQx</td>\n",
       "      <td>37i9dQZF1DWXRqgorJj26U</td>\n",
       "      <td>5e6x5YRnMJIKvYpZxLqdpH</td>\n",
       "      <td>0.432</td>\n",
       "      <td>0.0</td>\n",
       "      <td>132.310</td>\n",
       "      <td>-3.785</td>\n",
       "      <td>0.0648</td>\n",
       "      <td>0.1730</td>\n",
       "      <td>The Long Road Home - The Ultimate John Fogerty...</td>\n",
       "    </tr>\n",
       "    <tr>\n",
       "      <th>1</th>\n",
       "      <td>4.0</td>\n",
       "      <td>53</td>\n",
       "      <td>0.0317</td>\n",
       "      <td>0.572</td>\n",
       "      <td>Rock Classics</td>\n",
       "      <td>Van Halen</td>\n",
       "      <td>241600.0</td>\n",
       "      <td>0.835</td>\n",
       "      <td>rock</td>\n",
       "      <td>classic</td>\n",
       "      <td>...</td>\n",
       "      <td>2c965LEDRNrXXCeBOAAwns</td>\n",
       "      <td>37i9dQZF1DWXRqgorJj26U</td>\n",
       "      <td>5FqYA8KfiwsQvyBI4IamnY</td>\n",
       "      <td>0.795</td>\n",
       "      <td>0.0</td>\n",
       "      <td>129.981</td>\n",
       "      <td>-6.219</td>\n",
       "      <td>0.1710</td>\n",
       "      <td>0.0702</td>\n",
       "      <td>The Collection</td>\n",
       "    </tr>\n",
       "  </tbody>\n",
       "</table>\n",
       "<p>2 rows × 29 columns</p>\n",
       "</div>"
      ],
      "text/plain": [
       "   time_signature  track_popularity  speechiness  danceability  playlist_name  \\\n",
       "0             4.0                23       0.0393         0.636  Rock Classics   \n",
       "1             4.0                53       0.0317         0.572  Rock Classics   \n",
       "\n",
       "                   track_artist  duration_ms  energy playlist_genre  \\\n",
       "0  Creedence Clearwater Revival     138053.0   0.746           rock   \n",
       "1                     Van Halen     241600.0   0.835           rock   \n",
       "\n",
       "  playlist_subgenre  ...          track_album_id             playlist_id  \\\n",
       "0           classic  ...  4A8gFwqd9jTtnsNwUu3OQx  37i9dQZF1DWXRqgorJj26U   \n",
       "1           classic  ...  2c965LEDRNrXXCeBOAAwns  37i9dQZF1DWXRqgorJj26U   \n",
       "\n",
       "                 track_id valence  key    tempo loudness acousticness  \\\n",
       "0  5e6x5YRnMJIKvYpZxLqdpH   0.432  0.0  132.310   -3.785       0.0648   \n",
       "1  5FqYA8KfiwsQvyBI4IamnY   0.795  0.0  129.981   -6.219       0.1710   \n",
       "\n",
       "   liveness                                   track_album_name  \n",
       "0    0.1730  The Long Road Home - The Ultimate John Fogerty...  \n",
       "1    0.0702                                     The Collection  \n",
       "\n",
       "[2 rows x 29 columns]"
      ]
     },
     "execution_count": 22,
     "metadata": {},
     "output_type": "execute_result"
    }
   ],
   "source": [
    "# Create a dataframe for low popularity spotify\n",
    "low_spotify = pd.read_csv(\"low_popularity_spotify_data.csv\")\n",
    "\n",
    "# Show first two lines\n",
    "low_spotify.head(2)"
   ]
  },
  {
   "cell_type": "code",
   "execution_count": 23,
   "metadata": {},
   "outputs": [
    {
     "data": {
      "text/html": [
       "<div>\n",
       "<style scoped>\n",
       "    .dataframe tbody tr th:only-of-type {\n",
       "        vertical-align: middle;\n",
       "    }\n",
       "\n",
       "    .dataframe tbody tr th {\n",
       "        vertical-align: top;\n",
       "    }\n",
       "\n",
       "    .dataframe thead th {\n",
       "        text-align: right;\n",
       "    }\n",
       "</style>\n",
       "<table border=\"1\" class=\"dataframe\">\n",
       "  <thead>\n",
       "    <tr style=\"text-align: right;\">\n",
       "      <th></th>\n",
       "      <th>energy</th>\n",
       "      <th>tempo</th>\n",
       "      <th>danceability</th>\n",
       "      <th>liveness</th>\n",
       "      <th>valence</th>\n",
       "      <th>duration_ms</th>\n",
       "      <th>loudness</th>\n",
       "      <th>playlist_genre</th>\n",
       "      <th>track_name</th>\n",
       "      <th>track_artist</th>\n",
       "      <th>track_popularity</th>\n",
       "      <th>analysis_url</th>\n",
       "    </tr>\n",
       "  </thead>\n",
       "  <tbody>\n",
       "    <tr>\n",
       "      <th>0</th>\n",
       "      <td>NaN</td>\n",
       "      <td>NaN</td>\n",
       "      <td>NaN</td>\n",
       "      <td>NaN</td>\n",
       "      <td>NaN</td>\n",
       "      <td>NaN</td>\n",
       "      <td>NaN</td>\n",
       "      <td>lofi</td>\n",
       "      <td>Make It</td>\n",
       "      <td>Berhanio</td>\n",
       "      <td>50</td>\n",
       "      <td>NaN</td>\n",
       "    </tr>\n",
       "    <tr>\n",
       "      <th>1</th>\n",
       "      <td>0.000202</td>\n",
       "      <td>71.599</td>\n",
       "      <td>0.124</td>\n",
       "      <td>0.11</td>\n",
       "      <td>0.0346</td>\n",
       "      <td>186388.0</td>\n",
       "      <td>-43.713</td>\n",
       "      <td>ambient</td>\n",
       "      <td>Foundation</td>\n",
       "      <td>Matheo Lyon</td>\n",
       "      <td>61</td>\n",
       "      <td>https://api.spotify.com/v1/audio-analysis/15Tw...</td>\n",
       "    </tr>\n",
       "  </tbody>\n",
       "</table>\n",
       "</div>"
      ],
      "text/plain": [
       "     energy   tempo  danceability  liveness  valence  duration_ms  loudness  \\\n",
       "0       NaN     NaN           NaN       NaN      NaN          NaN       NaN   \n",
       "1  0.000202  71.599         0.124      0.11   0.0346     186388.0   -43.713   \n",
       "\n",
       "  playlist_genre  track_name track_artist  track_popularity  \\\n",
       "0           lofi     Make It     Berhanio                50   \n",
       "1        ambient  Foundation  Matheo Lyon                61   \n",
       "\n",
       "                                        analysis_url  \n",
       "0                                                NaN  \n",
       "1  https://api.spotify.com/v1/audio-analysis/15Tw...  "
      ]
     },
     "execution_count": 23,
     "metadata": {},
     "output_type": "execute_result"
    }
   ],
   "source": [
    "union_spotify = pd.read_csv('union_spotify.csv')\n",
    "\n",
    "union_spotify.head(2)"
   ]
  },
  {
   "cell_type": "code",
   "execution_count": 24,
   "metadata": {},
   "outputs": [
    {
     "data": {
      "text/plain": [
       "(4676, 12)"
      ]
     },
     "execution_count": 24,
     "metadata": {},
     "output_type": "execute_result"
    }
   ],
   "source": [
    "union_spotify.shape"
   ]
  },
  {
   "cell_type": "code",
   "execution_count": 25,
   "metadata": {},
   "outputs": [
    {
     "data": {
      "text/plain": [
       "np.True_"
      ]
     },
     "execution_count": 25,
     "metadata": {},
     "output_type": "execute_result"
    }
   ],
   "source": [
    "# check for additional isnull\n",
    "union_spotify.isnull().any().any()"
   ]
  },
  {
   "cell_type": "code",
   "execution_count": 26,
   "metadata": {},
   "outputs": [
    {
     "data": {
      "text/plain": [
       "energy              1\n",
       "tempo               1\n",
       "danceability        1\n",
       "liveness            1\n",
       "valence             1\n",
       "duration_ms         1\n",
       "loudness            1\n",
       "playlist_genre      0\n",
       "track_name          0\n",
       "track_artist        0\n",
       "track_popularity    0\n",
       "analysis_url        1\n",
       "dtype: int64"
      ]
     },
     "execution_count": 26,
     "metadata": {},
     "output_type": "execute_result"
    }
   ],
   "source": [
    "# Check where null is located\n",
    "union_spotify.isnull().sum()"
   ]
  },
  {
   "cell_type": "code",
   "execution_count": 27,
   "metadata": {},
   "outputs": [
    {
     "data": {
      "text/html": [
       "<div>\n",
       "<style scoped>\n",
       "    .dataframe tbody tr th:only-of-type {\n",
       "        vertical-align: middle;\n",
       "    }\n",
       "\n",
       "    .dataframe tbody tr th {\n",
       "        vertical-align: top;\n",
       "    }\n",
       "\n",
       "    .dataframe thead th {\n",
       "        text-align: right;\n",
       "    }\n",
       "</style>\n",
       "<table border=\"1\" class=\"dataframe\">\n",
       "  <thead>\n",
       "    <tr style=\"text-align: right;\">\n",
       "      <th></th>\n",
       "      <th>energy</th>\n",
       "      <th>tempo</th>\n",
       "      <th>danceability</th>\n",
       "      <th>liveness</th>\n",
       "      <th>valence</th>\n",
       "      <th>duration_ms</th>\n",
       "      <th>loudness</th>\n",
       "      <th>playlist_genre</th>\n",
       "      <th>track_name</th>\n",
       "      <th>track_artist</th>\n",
       "      <th>track_popularity</th>\n",
       "      <th>analysis_url</th>\n",
       "    </tr>\n",
       "  </thead>\n",
       "  <tbody>\n",
       "    <tr>\n",
       "      <th>0</th>\n",
       "      <td>0.000202</td>\n",
       "      <td>71.599</td>\n",
       "      <td>0.124</td>\n",
       "      <td>0.11</td>\n",
       "      <td>0.0346</td>\n",
       "      <td>186388.0</td>\n",
       "      <td>-43.713</td>\n",
       "      <td>ambient</td>\n",
       "      <td>Foundation</td>\n",
       "      <td>Matheo Lyon</td>\n",
       "      <td>61</td>\n",
       "      <td>https://api.spotify.com/v1/audio-analysis/15Tw...</td>\n",
       "    </tr>\n",
       "    <tr>\n",
       "      <th>1</th>\n",
       "      <td>0.000237</td>\n",
       "      <td>73.664</td>\n",
       "      <td>0.172</td>\n",
       "      <td>0.11</td>\n",
       "      <td>0.0383</td>\n",
       "      <td>195466.0</td>\n",
       "      <td>-44.525</td>\n",
       "      <td>ambient</td>\n",
       "      <td>Reconcile</td>\n",
       "      <td>Jan Garlow</td>\n",
       "      <td>61</td>\n",
       "      <td>https://api.spotify.com/v1/audio-analysis/3ICe...</td>\n",
       "    </tr>\n",
       "  </tbody>\n",
       "</table>\n",
       "</div>"
      ],
      "text/plain": [
       "     energy   tempo  danceability  liveness  valence  duration_ms  loudness  \\\n",
       "0  0.000202  71.599         0.124      0.11   0.0346     186388.0   -43.713   \n",
       "1  0.000237  73.664         0.172      0.11   0.0383     195466.0   -44.525   \n",
       "\n",
       "  playlist_genre  track_name track_artist  track_popularity  \\\n",
       "0        ambient  Foundation  Matheo Lyon                61   \n",
       "1        ambient   Reconcile   Jan Garlow                61   \n",
       "\n",
       "                                        analysis_url  \n",
       "0  https://api.spotify.com/v1/audio-analysis/15Tw...  \n",
       "1  https://api.spotify.com/v1/audio-analysis/3ICe...  "
      ]
     },
     "execution_count": 27,
     "metadata": {},
     "output_type": "execute_result"
    }
   ],
   "source": [
    "union_spotify_clean = union_spotify.dropna().reset_index(drop=True)\n",
    "\n",
    "union_spotify_clean.head(2)"
   ]
  },
  {
   "cell_type": "code",
   "execution_count": 28,
   "metadata": {},
   "outputs": [
    {
     "data": {
      "text/plain": [
       "(4675, 12)"
      ]
     },
     "execution_count": 28,
     "metadata": {},
     "output_type": "execute_result"
    }
   ],
   "source": [
    "union_spotify_clean.shape"
   ]
  },
  {
   "cell_type": "code",
   "execution_count": 29,
   "metadata": {},
   "outputs": [],
   "source": [
    "# Setting up for correlation matrix\n",
    "unioned_filtered_numeric = union_spotify_clean.select_dtypes(include=['number'])\n",
    "# survey_filtered_numeric = survey_db_counts.select_dtypes(include=['number'])\n",
    "\n",
    "# Correlation Matrix\n",
    "corr_matrix = unioned_filtered_numeric.corr()"
   ]
  },
  {
   "cell_type": "code",
   "execution_count": 30,
   "metadata": {},
   "outputs": [
    {
     "data": {
      "image/png": "[encoded data removed]",
      "text/plain": [
       "<Figure size 1200x800 with 2 Axes>"
      ]
     },
     "metadata": {},
     "output_type": "display_data"
    }
   ],
   "source": [
    "# Plot the heatmap  \n",
    "plt.figure(figsize=(12,8))\n",
    "sns.heatmap(corr_matrix, annot=True, cmap='coolwarm')\n",
    "plt.show()"
   ]
  },
  {
   "cell_type": "code",
   "execution_count": 31,
   "metadata": {},
   "outputs": [],
   "source": [
    "# Setting up for correlation matrix\n",
    "survey_filtered_numeric = survey_sql_cleaned.select_dtypes(include=['number'])\n",
    "# survey_filtered_numeric = survey_db_counts.select_dtypes(include=['number'])\n",
    "\n",
    "# Correlation Matrix\n",
    "corr_matrix_survey = survey_filtered_numeric.corr()"
   ]
  },
  {
   "cell_type": "code",
   "execution_count": 32,
   "metadata": {},
   "outputs": [
    {
     "data": {
      "image/png": "[encoded data removed]",
      "text/plain": [
       "<Figure size 1200x800 with 2 Axes>"
      ]
     },
     "metadata": {},
     "output_type": "display_data"
    }
   ],
   "source": [
    "# Plot the heatmap  \n",
    "plt.figure(figsize=(12,8))\n",
    "sns.heatmap(corr_matrix_survey, annot=True, cmap='coolwarm')\n",
    "plt.show()"
   ]
  },
  {
   "cell_type": "code",
   "execution_count": 33,
   "metadata": {},
   "outputs": [
    {
     "data": {
      "image/png": "[encoded data removed]",
      "text/plain": [
       "<Figure size 1200x800 with 1 Axes>"
      ]
     },
     "metadata": {},
     "output_type": "display_data"
    }
   ],
   "source": [
    "# histogram\n",
    "plt.style.use('_mpl-gallery')\n",
    "\n",
    "# plot:\n",
    "fig, ax = plt.subplots(figsize=(12,8))\n",
    "\n",
    "ax.hist(survey_db_counts, bins=8, linewidth=0.5, edgecolor=\"white\")\n",
    "\n",
    "ax.set(xlim=(0, 8), xticks=np.arange(1, 8),\n",
    "       ylim=(0, 56), yticks=np.linspace(0, 56, 9))\n",
    "\n",
    "plt.show()"
   ]
  },
  {
   "cell_type": "code",
   "execution_count": 34,
   "metadata": {},
   "outputs": [
    {
     "data": {
      "text/plain": [
       "Index(['Primarystreamingservice', 'Favgenre', 'improve_count', 'worsen_count',\n",
       "       'no_effect_count', 'total_count', 'improve_percentage',\n",
       "       'worsen_percentage', 'no_effect_percentage'],\n",
       "      dtype='object')"
      ]
     },
     "execution_count": 34,
     "metadata": {},
     "output_type": "execute_result"
    }
   ],
   "source": [
    "survey_db_counts.columns"
   ]
  },
  {
   "cell_type": "code",
   "execution_count": 35,
   "metadata": {},
   "outputs": [
    {
     "name": "stdout",
     "output_type": "stream",
     "text": [
      "['ambient' 'wellness' 'gaming' 'world' 'classical' 'electronic' 'lofi'\n",
      " 'jazz' 'folk' 'blues' 'pop' 'soul' 'latin' 'arabic' 'rock' 'afrobeats'\n",
      " 'cantopop' 'r&b' 'hip-hop' 'mandopop' 'brazilian' 'korean' 'turkish'\n",
      " 'disco' 'country' 'indian' 'punk' 'j-pop' 'reggae' 'gospel' 'k-pop'\n",
      " 'indie' 'funk' 'soca' 'metal']\n"
     ]
    }
   ],
   "source": [
    "unique_values = union_spotify_clean['playlist_genre'].unique()\n",
    "print(unique_values)"
   ]
  },
  {
   "cell_type": "code",
   "execution_count": 36,
   "metadata": {},
   "outputs": [
    {
     "name": "stdout",
     "output_type": "stream",
     "text": [
      "400\n",
      "4675\n"
     ]
    }
   ],
   "source": [
    "print(len(survey_filtered_numeric))\n",
    "print(len(unioned_filtered_numeric))"
   ]
  },
  {
   "cell_type": "code",
   "execution_count": 37,
   "metadata": {},
   "outputs": [],
   "source": [
    "popular_over_70 = pd.read_csv('popular_over_70.csv')\n",
    "\n",
    "popular_categories = pd.read_csv('popular_categories.csv')"
   ]
  },
  {
   "cell_type": "code",
   "execution_count": 38,
   "metadata": {},
   "outputs": [
    {
     "data": {
      "text/html": [
       "<div>\n",
       "<style scoped>\n",
       "    .dataframe tbody tr th:only-of-type {\n",
       "        vertical-align: middle;\n",
       "    }\n",
       "\n",
       "    .dataframe tbody tr th {\n",
       "        vertical-align: top;\n",
       "    }\n",
       "\n",
       "    .dataframe thead th {\n",
       "        text-align: right;\n",
       "    }\n",
       "</style>\n",
       "<table border=\"1\" class=\"dataframe\">\n",
       "  <thead>\n",
       "    <tr style=\"text-align: right;\">\n",
       "      <th></th>\n",
       "      <th>playlist_genre</th>\n",
       "      <th>track_name</th>\n",
       "      <th>track_artist</th>\n",
       "      <th>track_popularity</th>\n",
       "      <th>analysis_url</th>\n",
       "    </tr>\n",
       "  </thead>\n",
       "  <tbody>\n",
       "    <tr>\n",
       "      <th>0</th>\n",
       "      <td>pop</td>\n",
       "      <td>Die With A Smile</td>\n",
       "      <td>Lady Gaga, Bruno Mars</td>\n",
       "      <td>100</td>\n",
       "      <td>https://api.spotify.com/v1/audio-analysis/2plb...</td>\n",
       "    </tr>\n",
       "    <tr>\n",
       "      <th>1</th>\n",
       "      <td>pop</td>\n",
       "      <td>BIRDS OF A FEATHER</td>\n",
       "      <td>Billie Eilish</td>\n",
       "      <td>97</td>\n",
       "      <td>https://api.spotify.com/v1/audio-analysis/6dOt...</td>\n",
       "    </tr>\n",
       "    <tr>\n",
       "      <th>2</th>\n",
       "      <td>pop</td>\n",
       "      <td>That’s So True</td>\n",
       "      <td>Gracie Abrams</td>\n",
       "      <td>93</td>\n",
       "      <td>https://api.spotify.com/v1/audio-analysis/7ne4...</td>\n",
       "    </tr>\n",
       "    <tr>\n",
       "      <th>3</th>\n",
       "      <td>pop</td>\n",
       "      <td>Taste</td>\n",
       "      <td>Sabrina Carpenter</td>\n",
       "      <td>81</td>\n",
       "      <td>https://api.spotify.com/v1/audio-analysis/1d7P...</td>\n",
       "    </tr>\n",
       "    <tr>\n",
       "      <th>4</th>\n",
       "      <td>pop</td>\n",
       "      <td>APT.</td>\n",
       "      <td>ROSÉ, Bruno Mars</td>\n",
       "      <td>98</td>\n",
       "      <td>https://api.spotify.com/v1/audio-analysis/5vNR...</td>\n",
       "    </tr>\n",
       "  </tbody>\n",
       "</table>\n",
       "</div>"
      ],
      "text/plain": [
       "  playlist_genre          track_name           track_artist  track_popularity  \\\n",
       "0            pop    Die With A Smile  Lady Gaga, Bruno Mars               100   \n",
       "1            pop  BIRDS OF A FEATHER          Billie Eilish                97   \n",
       "2            pop      That’s So True          Gracie Abrams                93   \n",
       "3            pop               Taste      Sabrina Carpenter                81   \n",
       "4            pop                APT.       ROSÉ, Bruno Mars                98   \n",
       "\n",
       "                                        analysis_url  \n",
       "0  https://api.spotify.com/v1/audio-analysis/2plb...  \n",
       "1  https://api.spotify.com/v1/audio-analysis/6dOt...  \n",
       "2  https://api.spotify.com/v1/audio-analysis/7ne4...  \n",
       "3  https://api.spotify.com/v1/audio-analysis/1d7P...  \n",
       "4  https://api.spotify.com/v1/audio-analysis/5vNR...  "
      ]
     },
     "execution_count": 38,
     "metadata": {},
     "output_type": "execute_result"
    }
   ],
   "source": [
    "popular_over_70.head()"
   ]
  },
  {
   "cell_type": "code",
   "execution_count": 39,
   "metadata": {},
   "outputs": [
    {
     "data": {
      "text/html": [
       "<div>\n",
       "<style scoped>\n",
       "    .dataframe tbody tr th:only-of-type {\n",
       "        vertical-align: middle;\n",
       "    }\n",
       "\n",
       "    .dataframe tbody tr th {\n",
       "        vertical-align: top;\n",
       "    }\n",
       "\n",
       "    .dataframe thead th {\n",
       "        text-align: right;\n",
       "    }\n",
       "</style>\n",
       "<table border=\"1\" class=\"dataframe\">\n",
       "  <thead>\n",
       "    <tr style=\"text-align: right;\">\n",
       "      <th></th>\n",
       "      <th>playlist_genre</th>\n",
       "      <th>track_name</th>\n",
       "      <th>track_artist</th>\n",
       "      <th>track_popularity</th>\n",
       "      <th>analysis_url</th>\n",
       "    </tr>\n",
       "  </thead>\n",
       "  <tbody>\n",
       "    <tr>\n",
       "      <th>0</th>\n",
       "      <td>pop</td>\n",
       "      <td>Die With A Smile</td>\n",
       "      <td>Lady Gaga, Bruno Mars</td>\n",
       "      <td>100</td>\n",
       "      <td>https://api.spotify.com/v1/audio-analysis/2plb...</td>\n",
       "    </tr>\n",
       "    <tr>\n",
       "      <th>1</th>\n",
       "      <td>pop</td>\n",
       "      <td>BIRDS OF A FEATHER</td>\n",
       "      <td>Billie Eilish</td>\n",
       "      <td>97</td>\n",
       "      <td>https://api.spotify.com/v1/audio-analysis/6dOt...</td>\n",
       "    </tr>\n",
       "    <tr>\n",
       "      <th>2</th>\n",
       "      <td>pop</td>\n",
       "      <td>That’s So True</td>\n",
       "      <td>Gracie Abrams</td>\n",
       "      <td>93</td>\n",
       "      <td>https://api.spotify.com/v1/audio-analysis/7ne4...</td>\n",
       "    </tr>\n",
       "    <tr>\n",
       "      <th>3</th>\n",
       "      <td>pop</td>\n",
       "      <td>Taste</td>\n",
       "      <td>Sabrina Carpenter</td>\n",
       "      <td>81</td>\n",
       "      <td>https://api.spotify.com/v1/audio-analysis/1d7P...</td>\n",
       "    </tr>\n",
       "    <tr>\n",
       "      <th>4</th>\n",
       "      <td>pop</td>\n",
       "      <td>APT.</td>\n",
       "      <td>ROSÉ, Bruno Mars</td>\n",
       "      <td>98</td>\n",
       "      <td>https://api.spotify.com/v1/audio-analysis/5vNR...</td>\n",
       "    </tr>\n",
       "  </tbody>\n",
       "</table>\n",
       "</div>"
      ],
      "text/plain": [
       "  playlist_genre          track_name           track_artist  track_popularity  \\\n",
       "0            pop    Die With A Smile  Lady Gaga, Bruno Mars               100   \n",
       "1            pop  BIRDS OF A FEATHER          Billie Eilish                97   \n",
       "2            pop      That’s So True          Gracie Abrams                93   \n",
       "3            pop               Taste      Sabrina Carpenter                81   \n",
       "4            pop                APT.       ROSÉ, Bruno Mars                98   \n",
       "\n",
       "                                        analysis_url  \n",
       "0  https://api.spotify.com/v1/audio-analysis/2plb...  \n",
       "1  https://api.spotify.com/v1/audio-analysis/6dOt...  \n",
       "2  https://api.spotify.com/v1/audio-analysis/7ne4...  \n",
       "3  https://api.spotify.com/v1/audio-analysis/1d7P...  \n",
       "4  https://api.spotify.com/v1/audio-analysis/5vNR...  "
      ]
     },
     "execution_count": 39,
     "metadata": {},
     "output_type": "execute_result"
    }
   ],
   "source": [
    "popular_categories.head()"
   ]
  },
  {
   "cell_type": "code",
   "execution_count": 40,
   "metadata": {},
   "outputs": [],
   "source": [
    "\n",
    "popular_songs_by_genre = pd.read_csv('max_popular_songs.csv')"
   ]
  },
  {
   "cell_type": "code",
   "execution_count": 41,
   "metadata": {},
   "outputs": [
    {
     "data": {
      "text/plain": [
       "np.False_"
      ]
     },
     "execution_count": 41,
     "metadata": {},
     "output_type": "execute_result"
    }
   ],
   "source": [
    "popular_songs_by_genre.isnull().any().any()"
   ]
  },
  {
   "cell_type": "code",
   "execution_count": 42,
   "metadata": {},
   "outputs": [
    {
     "data": {
      "text/plain": [
       "(37, 6)"
      ]
     },
     "execution_count": 42,
     "metadata": {},
     "output_type": "execute_result"
    }
   ],
   "source": [
    "popular_songs_by_genre.shape"
   ]
  },
  {
   "cell_type": "code",
   "execution_count": 43,
   "metadata": {},
   "outputs": [],
   "source": [
    "# Filtering for most popular song by genre in the spotify database (from sql csv)\n",
    "\n",
    "def filter_by_genre(df, column_name, genre):\n",
    "    \"\"\" Filtering by column genre to find the top song for that genre based on popular spotify data.\n",
    "    \n",
    "    Parameters:\n",
    "    df = The DataFrame that houses the data\n",
    "    column_name = column that is being filtered\n",
    "    genre = The genre to search\n",
    "   \n",
    "     Returns:\n",
    "    pandas.DataFrame: A filtered DataFrame containing rows where the genre matches the given genre.\n",
    "    \"\"\"\n",
    "    \n",
    "\n",
    "    filtered_popular_songs = popular_songs_by_genre[popular_songs_by_genre['playlist_genre'] == genre]\n",
    "    return filtered_popular_songs\n",
    "\n",
    "\n"
   ]
  },
  {
   "cell_type": "code",
   "execution_count": 44,
   "metadata": {},
   "outputs": [
    {
     "data": {
      "text/html": [
       "<div>\n",
       "<style scoped>\n",
       "    .dataframe tbody tr th:only-of-type {\n",
       "        vertical-align: middle;\n",
       "    }\n",
       "\n",
       "    .dataframe tbody tr th {\n",
       "        vertical-align: top;\n",
       "    }\n",
       "\n",
       "    .dataframe thead th {\n",
       "        text-align: right;\n",
       "    }\n",
       "</style>\n",
       "<table border=\"1\" class=\"dataframe\">\n",
       "  <thead>\n",
       "    <tr style=\"text-align: right;\">\n",
       "      <th></th>\n",
       "      <th>playlist_genre</th>\n",
       "      <th>track_popularity</th>\n",
       "      <th>track_artist</th>\n",
       "      <th>track_popularity.1</th>\n",
       "      <th>track_name</th>\n",
       "      <th>analysis_url</th>\n",
       "    </tr>\n",
       "  </thead>\n",
       "  <tbody>\n",
       "    <tr>\n",
       "      <th>15</th>\n",
       "      <td>metal</td>\n",
       "      <td>83</td>\n",
       "      <td>System Of A Down</td>\n",
       "      <td>83</td>\n",
       "      <td>Chop Suey!</td>\n",
       "      <td>https://api.spotify.com/v1/audio-analysis/2DlH...</td>\n",
       "    </tr>\n",
       "    <tr>\n",
       "      <th>21</th>\n",
       "      <td>metal</td>\n",
       "      <td>83</td>\n",
       "      <td>System Of A Down</td>\n",
       "      <td>83</td>\n",
       "      <td>Chop Suey!</td>\n",
       "      <td>https://api.spotify.com/v1/audio-analysis/2DlH...</td>\n",
       "    </tr>\n",
       "  </tbody>\n",
       "</table>\n",
       "</div>"
      ],
      "text/plain": [
       "   playlist_genre  track_popularity      track_artist  track_popularity.1  \\\n",
       "15          metal                83  System Of A Down                  83   \n",
       "21          metal                83  System Of A Down                  83   \n",
       "\n",
       "    track_name                                       analysis_url  \n",
       "15  Chop Suey!  https://api.spotify.com/v1/audio-analysis/2DlH...  \n",
       "21  Chop Suey!  https://api.spotify.com/v1/audio-analysis/2DlH...  "
      ]
     },
     "execution_count": 44,
     "metadata": {},
     "output_type": "execute_result"
    }
   ],
   "source": [
    "result_popular = filter_by_genre(popular_songs_by_genre, 'playlist_genre', 'metal')\n",
    "result_popular"
   ]
  },
  {
   "cell_type": "code",
   "execution_count": 45,
   "metadata": {},
   "outputs": [
    {
     "data": {
      "text/plain": [
       "(10, 6)"
      ]
     },
     "execution_count": 45,
     "metadata": {},
     "output_type": "execute_result"
    }
   ],
   "source": [
    "\n",
    "\n",
    "\n",
    "duplicates_popular_songs_by_genre = popular_songs_by_genre[popular_songs_by_genre.duplicated(keep=False)]\n",
    "\n",
    "duplicates_popular_songs_by_genre.shape"
   ]
  },
  {
   "cell_type": "code",
   "execution_count": 46,
   "metadata": {},
   "outputs": [],
   "source": [
    "# Drop duplicates and create a new DataFrame\n",
    "popular_songs_by_genre_no_duplicates = popular_songs_by_genre.drop_duplicates()\n",
    "\n",
    "popular_songs_by_genre_clean = popular_songs_by_genre_no_duplicates"
   ]
  },
  {
   "cell_type": "code",
   "execution_count": 47,
   "metadata": {},
   "outputs": [
    {
     "data": {
      "text/plain": [
       "(32, 6)"
      ]
     },
     "execution_count": 47,
     "metadata": {},
     "output_type": "execute_result"
    }
   ],
   "source": [
    "popular_songs_by_genre_clean.shape"
   ]
  },
  {
   "cell_type": "code",
   "execution_count": 48,
   "metadata": {},
   "outputs": [],
   "source": [
    "# Filtering for most popular song by genre in the spotify database (from sql csv)\n",
    "\n",
    "def filter_by_genre(df, column_name, genre):\n",
    "    \"\"\" Filtering by column genre to find the top song for that genre based on popular spotify data.\n",
    "    \n",
    "    Parameters:\n",
    "    df = The DataFrame that houses the data\n",
    "    column_name = column that is being filtered\n",
    "    genre = The genre to search\n",
    "   \n",
    "     Returns:\n",
    "    pandas.DataFrame: A filtered DataFrame containing rows where the genre matches the given genre.\n",
    "    \"\"\"\n",
    "    \n",
    "\n",
    "    filtered_popular_songs = popular_songs_by_genre_clean[popular_songs_by_genre_clean['playlist_genre'] == genre]\n",
    "    return filtered_popular_songs"
   ]
  },
  {
   "cell_type": "code",
   "execution_count": 49,
   "metadata": {},
   "outputs": [
    {
     "data": {
      "text/html": [
       "<div>\n",
       "<style scoped>\n",
       "    .dataframe tbody tr th:only-of-type {\n",
       "        vertical-align: middle;\n",
       "    }\n",
       "\n",
       "    .dataframe tbody tr th {\n",
       "        vertical-align: top;\n",
       "    }\n",
       "\n",
       "    .dataframe thead th {\n",
       "        text-align: right;\n",
       "    }\n",
       "</style>\n",
       "<table border=\"1\" class=\"dataframe\">\n",
       "  <thead>\n",
       "    <tr style=\"text-align: right;\">\n",
       "      <th></th>\n",
       "      <th>playlist_genre</th>\n",
       "      <th>track_popularity</th>\n",
       "      <th>track_artist</th>\n",
       "      <th>track_popularity.1</th>\n",
       "      <th>track_name</th>\n",
       "      <th>analysis_url</th>\n",
       "    </tr>\n",
       "  </thead>\n",
       "  <tbody>\n",
       "    <tr>\n",
       "      <th>1</th>\n",
       "      <td>jazz</td>\n",
       "      <td>69</td>\n",
       "      <td>Nat King Cole</td>\n",
       "      <td>69</td>\n",
       "      <td>Unforgettable</td>\n",
       "      <td>https://api.spotify.com/v1/audio-analysis/648T...</td>\n",
       "    </tr>\n",
       "  </tbody>\n",
       "</table>\n",
       "</div>"
      ],
      "text/plain": [
       "  playlist_genre  track_popularity   track_artist  track_popularity.1  \\\n",
       "1           jazz                69  Nat King Cole                  69   \n",
       "\n",
       "      track_name                                       analysis_url  \n",
       "1  Unforgettable  https://api.spotify.com/v1/audio-analysis/648T...  "
      ]
     },
     "execution_count": 49,
     "metadata": {},
     "output_type": "execute_result"
    }
   ],
   "source": [
    "result_popular = filter_by_genre(popular_songs_by_genre_clean, 'playlist_genre', 'jazz')\n",
    "result_popular\n"
   ]
  },
  {
   "cell_type": "code",
   "execution_count": 50,
   "metadata": {},
   "outputs": [
    {
     "data": {
      "text/plain": [
       "array(['pop', 'jazz', 'classical', 'hip-hop', 'afrobeats', 'latin',\n",
       "       'indian', 'country', 'r&b', 'electronic', 'soul', 'gaming',\n",
       "       'j-pop', 'metal', 'reggae', 'k-pop', 'arabic', 'rock', 'punk',\n",
       "       'blues', 'folk', 'lofi', 'brazilian', 'turkish', 'ambient',\n",
       "       'korean', 'world', 'indie'], dtype=object)"
      ]
     },
     "execution_count": 50,
     "metadata": {},
     "output_type": "execute_result"
    }
   ],
   "source": [
    "unique_spotify_genres = popular_songs_by_genre_clean['playlist_genre'].unique()\n",
    "\n",
    "unique_spotify_genres"
   ]
  },
  {
   "cell_type": "code",
   "execution_count": 51,
   "metadata": {},
   "outputs": [
    {
     "data": {
      "text/plain": [
       "array(['classical', 'country', 'edm', 'folk', 'gospel', 'hip hop', 'jazz',\n",
       "       'k pop', 'latin', 'lofi', 'metal', 'pop', 'r&b', 'rap', 'rock',\n",
       "       'video game music'], dtype=object)"
      ]
     },
     "execution_count": 51,
     "metadata": {},
     "output_type": "execute_result"
    }
   ],
   "source": [
    "# survey db counts\n",
    "unique_survey_db_counts = survey_db_counts['Favgenre'].unique()\n",
    "\n",
    "unique_survey_db_counts"
   ]
  },
  {
   "cell_type": "markdown",
   "metadata": {},
   "source": [
    "Will focus on the values that are common between unique_spotify_genres and unique_survey_db_counts\n",
    "with attempted join"
   ]
  },
  {
   "cell_type": "code",
   "execution_count": 52,
   "metadata": {},
   "outputs": [],
   "source": [
    "# y, sr = librosa.load('Unforgettable_NKC_NC.wav', mono=False)\n",
    "\n",
    "# Compute the spectrogram\n",
    "# spectrogram = librosa.feature.melspectrogram(y=y, sr=sr)\n",
    "\n",
    "# Convert to decibels\n",
    "# spectrogram_db = librosa.power_to_db(spectrogram, ref=np.max)\n",
    "\n",
    "\n"
   ]
  },
  {
   "cell_type": "code",
   "execution_count": 53,
   "metadata": {},
   "outputs": [
    {
     "ename": "ModuleNotFoundError",
     "evalue": "No module named 'ffmpeg'",
     "output_type": "error",
     "traceback": [
      "\u001b[0;31m---------------------------------------------------------------------------\u001b[0m",
      "\u001b[0;31mModuleNotFoundError\u001b[0m                       Traceback (most recent call last)",
      "Cell \u001b[0;32mIn[53], line 1\u001b[0m\n\u001b[0;32m----> 1\u001b[0m \u001b[38;5;28;01mimport\u001b[39;00m \u001b[38;5;21;01mffmpeg\u001b[39;00m\n\u001b[1;32m      3\u001b[0m input_file \u001b[38;5;241m=\u001b[39m \u001b[38;5;124m'\u001b[39m\u001b[38;5;124mUnforgettable.wav\u001b[39m\u001b[38;5;124m'\u001b[39m\n\u001b[1;32m      4\u001b[0m output_file \u001b[38;5;241m=\u001b[39m \u001b[38;5;124m'\u001b[39m\u001b[38;5;124mconverted_audio.wav\u001b[39m\u001b[38;5;124m'\u001b[39m\n",
      "\u001b[0;31mModuleNotFoundError\u001b[0m: No module named 'ffmpeg'"
     ]
    }
   ],
   "source": [
    "import ffmpeg\n",
    "\n",
    "input_file = 'Unforgettable.wav'\n",
    "output_file = 'converted_audio.wav'\n",
    "\n",
    "# Convert to PCM WAV format using FFmpeg\n",
    "ffmpeg.input(input_file).output(output_file, acodec='pcm_s16le').run()\n",
    "\n",
    "print(\"File converted successfully\")\n"
   ]
  },
  {
   "cell_type": "code",
   "execution_count": null,
   "metadata": {},
   "outputs": [],
   "source": [
    "# Load audio file\n",
    "sample_rate, audio_data = wavfile.read('Unforgettable.wav')\n",
    "\n"
   ]
  },
  {
   "cell_type": "code",
   "execution_count": null,
   "metadata": {},
   "outputs": [],
   "source": [
    "# Plot the waveform\n",
    "plt.figure(figsize=(12, 6))\n",
    "librosa.display.waveshow(y, sr=sr)\n",
    "plt.title('Audio Waveform')\n",
    "plt.xlabel('Time (s)')\n",
    "plt.ylabel('Amplitude')\n",
    "plt.show()"
   ]
  },
  {
   "cell_type": "code",
   "execution_count": null,
   "metadata": {},
   "outputs": [],
   "source": [
    "# Plot the spectrogram\n",
    "plt.figure(figsize=(10, 4))\n",
    "librosa.display.specshow(spectrogram_db, sr=sr, x_axis=time, y_axis=hz)\n",
    "plt.colorbar(format=%+2.0f dB)\n",
    "plt.title(Spectrogram)\n",
    "plt.tight_layout()\n",
    "plt.show()"
   ]
  }
 ],
 "metadata": {
  "kernelspec": {
   "display_name": "Python 3",
   "language": "python",
   "name": "python3"
  },
  "language_info": {
   "codemirror_mode": {
    "name": "ipython",
    "version": 3
   },
   "file_extension": ".py",
   "mimetype": "text/x-python",
   "name": "python",
   "nbconvert_exporter": "python",
   "pygments_lexer": "ipython3",
   "version": "3.13.0"
  }
 },
 "nbformat": 4,
 "nbformat_minor": 2
}
